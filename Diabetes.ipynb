{
 "cells": [
  {
   "cell_type": "markdown",
   "id": "cc35b9fc",
   "metadata": {},
   "source": [
    "## Read in data"
   ]
  },
  {
   "cell_type": "code",
   "execution_count": 14,
   "id": "5af800c4",
   "metadata": {
    "scrolled": false
   },
   "outputs": [],
   "source": [
    "import pandas as pd\n",
    "diabetes = pd.read_sas('C:/Users/yzh7381/Dropbox/Diabetes/Data/LLCP2022.xpt')"
   ]
  },
  {
   "cell_type": "code",
   "execution_count": 15,
   "id": "395c635d",
   "metadata": {},
   "outputs": [
    {
     "name": "stdout",
     "output_type": "stream",
     "text": [
      "(445132, 328)\n"
     ]
    }
   ],
   "source": [
    "print(diabetes.shape)"
   ]
  },
  {
   "cell_type": "code",
   "execution_count": 16,
   "id": "6f3ca5bd",
   "metadata": {},
   "outputs": [
    {
     "data": {
      "text/plain": [
       "54"
      ]
     },
     "execution_count": 16,
     "metadata": {},
     "output_type": "execute_result"
    }
   ],
   "source": [
    "diabetes['_STATE'].nunique()"
   ]
  },
  {
   "attachments": {},
   "cell_type": "markdown",
   "id": "a47007a9",
   "metadata": {},
   "source": [
    "## Identify relevant features and target variables\n",
    "\n",
    "**22 features were identified, including:**\n",
    "\n",
    "20 categorical features：\n",
    "\n",
    "    Sex of respondent (SEXVAR)\n",
    "\n",
    "    General health (GENHLTH)\n",
    "\n",
    "    Have personal health care provider (PERSDOC3)\n",
    "\n",
    "    Exercise in past 30 days (EXERANY2)\n",
    "\n",
    "    Ever diagnosed with heart attack (CVDINFR4)\n",
    "\n",
    "    Ever diagnosed with angina or coronary heart disease (CVDCRHD4)\n",
    "\n",
    "    Ever Diagnosed with a stroke (CVDSTRK3)\n",
    "\n",
    "    Ever told had asthma (ASTHMA3)\n",
    "\n",
    "    Ever told you had a depressive disorder (ADDEPEV3)\n",
    "\n",
    "    Ever told you have kidney disease (CHCKDNY2)\n",
    "\n",
    "    Marital status (MARITAL)\n",
    "\n",
    "    Have you ever been told you tested positive for COVID19? (COVIDPOS)\n",
    "\n",
    "    Race/ethnicity (_IMPRACE) \n",
    "\n",
    "    Physical health status (_PHYS14D)\n",
    "\n",
    "    Mental health status (_MENT14D)\n",
    "\n",
    "    Age group (_AGE_G)\n",
    "\n",
    "    BMI category (_BMI5CAT)\n",
    "\n",
    "    Education level (_EDUCAG)\n",
    "\n",
    "    Income level (_INCOMG1)\n",
    "\n",
    "    Smoking status (_SMOKER3)\n",
    "\n",
    "2 continuous features:\n",
    "\n",
    "    How much time do you sleep (SLEPTIM1)\n",
    "    \n",
    "    Number of drinks of alcohol beverages per week (_DRNKWK2)\n",
    "\n",
    "**Below is the target variable:**\n",
    "\n",
    "Ever told you had diabetes (DIABETE4)\n",
    "\n",
    "    1 = Yes\n",
    "    2 = Yes, but female told only during pregnancy\n",
    "    3 = No\n",
    "    4 = No, pre-diabetes or borderline diabetes\n"
   ]
  },
  {
   "cell_type": "code",
   "execution_count": 17,
   "id": "39c574cd",
   "metadata": {
    "scrolled": true
   },
   "outputs": [
    {
     "name": "stdout",
     "output_type": "stream",
     "text": [
      "(445132, 23)\n"
     ]
    }
   ],
   "source": [
    "# select variables\n",
    "selected_variables = [\n",
    "    'SEXVAR', 'GENHLTH', 'PERSDOC3', 'EXERANY2', 'SLEPTIM1', 'CVDINFR4',\n",
    "    'CVDCRHD4', 'CVDSTRK3', 'ASTHMA3', 'ADDEPEV3', 'CHCKDNY2', 'MARITAL',\n",
    "    'COVIDPOS', '_IMPRACE', '_PHYS14D', '_MENT14D', '_AGE_G', '_BMI5CAT', \n",
    "    '_EDUCAG', '_INCOMG1', '_SMOKER3', '_DRNKWK2', 'DIABETE4'\n",
    "]\n",
    "diabetes_selected = diabetes[selected_variables]\n",
    "print(diabetes_selected.shape)"
   ]
  },
  {
   "cell_type": "markdown",
   "id": "c5271406",
   "metadata": {},
   "source": [
    "## Data preprocessing"
   ]
  },
  {
   "cell_type": "markdown",
   "id": "32fa85b5",
   "metadata": {},
   "source": [
    "**1. Checking missing values**"
   ]
  },
  {
   "cell_type": "code",
   "execution_count": 22,
   "id": "62a09296",
   "metadata": {
    "scrolled": true
   },
   "outputs": [
    {
     "name": "stdout",
     "output_type": "stream",
     "text": [
      "Missing values in each column:\n",
      " SEXVAR          0\n",
      "GENHLTH         3\n",
      "PERSDOC3        2\n",
      "EXERANY2        2\n",
      "SLEPTIM1        3\n",
      "CVDINFR4        4\n",
      "CVDCRHD4        2\n",
      "CVDSTRK3        2\n",
      "ASTHMA3         2\n",
      "ADDEPEV3        7\n",
      "CHCKDNY2        2\n",
      "MARITAL         8\n",
      "COVIDPOS    49235\n",
      "_IMPRACE        0\n",
      "_PHYS14D        0\n",
      "_MENT14D        0\n",
      "_AGE_G          0\n",
      "_BMI5CAT    48806\n",
      "_EDUCAG         0\n",
      "_INCOMG1        0\n",
      "_SMOKER3        0\n",
      "_DRNKWK2        0\n",
      "DIABETE4        3\n",
      "dtype: int64\n"
     ]
    }
   ],
   "source": [
    "# Check for missing values (blank)\n",
    "missing_values = diabetes_selected.isnull().sum()\n",
    "print(\"Missing values in each column:\\n\", missing_values)"
   ]
  },
  {
   "cell_type": "markdown",
   "id": "8316a39b",
   "metadata": {},
   "source": [
    "**2. Drop records with small missing values and impute features with a large portion of missingness**"
   ]
  },
  {
   "cell_type": "code",
   "execution_count": 23,
   "id": "3d6fe5ee",
   "metadata": {},
   "outputs": [],
   "source": [
    "# Drop rows with missing values except 'COVIDPOS' and '_BMI5CAT'\n",
    "diabetes_complete = diabetes_selected.dropna(subset=[col for col in diabetes_selected.columns if col not in ['COVIDPOS', '_BMI5CAT']], how='any')"
   ]
  },
  {
   "cell_type": "code",
   "execution_count": 24,
   "id": "7d6d8393",
   "metadata": {
    "scrolled": true
   },
   "outputs": [
    {
     "data": {
      "text/plain": [
       "SEXVAR          0\n",
       "GENHLTH         0\n",
       "PERSDOC3        0\n",
       "EXERANY2        0\n",
       "SLEPTIM1        0\n",
       "CVDINFR4        0\n",
       "CVDCRHD4        0\n",
       "CVDSTRK3        0\n",
       "ASTHMA3         0\n",
       "ADDEPEV3        0\n",
       "CHCKDNY2        0\n",
       "MARITAL         0\n",
       "COVIDPOS    49228\n",
       "_IMPRACE        0\n",
       "_PHYS14D        0\n",
       "_MENT14D        0\n",
       "_AGE_G          0\n",
       "_BMI5CAT    48799\n",
       "_EDUCAG         0\n",
       "_INCOMG1        0\n",
       "_SMOKER3        0\n",
       "_DRNKWK2        0\n",
       "DIABETE4        0\n",
       "dtype: int64"
      ]
     },
     "execution_count": 24,
     "metadata": {},
     "output_type": "execute_result"
    }
   ],
   "source": [
    "print(diabetes_complete.isnull().sum())"
   ]
  },
  {
   "cell_type": "code",
   "execution_count": 25,
   "id": "18e6c209",
   "metadata": {
    "scrolled": true
   },
   "outputs": [
    {
     "name": "stderr",
     "output_type": "stream",
     "text": [
      "C:\\Users\\yzh7381\\AppData\\Local\\Temp\\ipykernel_28768\\638372393.py:6: SettingWithCopyWarning: \n",
      "A value is trying to be set on a copy of a slice from a DataFrame.\n",
      "Try using .loc[row_indexer,col_indexer] = value instead\n",
      "\n",
      "See the caveats in the documentation: https://pandas.pydata.org/pandas-docs/stable/user_guide/indexing.html#returning-a-view-versus-a-copy\n",
      "  diabetes_complete[categorical_cols] = cat_imputer.fit_transform(diabetes_complete[categorical_cols])\n"
     ]
    }
   ],
   "source": [
    "from sklearn.impute import SimpleImputer\n",
    "\n",
    "# Mode imputation for COVIDPOS and _BMI5CAT due to a larger portion of missing values in these two features\n",
    "categorical_cols = ['COVIDPOS', '_BMI5CAT']\n",
    "cat_imputer = SimpleImputer(strategy='most_frequent')\n",
    "diabetes_complete[categorical_cols] = cat_imputer.fit_transform(diabetes_complete[categorical_cols])"
   ]
  },
  {
   "cell_type": "code",
   "execution_count": 26,
   "id": "d0bfba51",
   "metadata": {
    "scrolled": true
   },
   "outputs": [
    {
     "name": "stdout",
     "output_type": "stream",
     "text": [
      "SEXVAR      0\n",
      "GENHLTH     0\n",
      "PERSDOC3    0\n",
      "EXERANY2    0\n",
      "SLEPTIM1    0\n",
      "CVDINFR4    0\n",
      "CVDCRHD4    0\n",
      "CVDSTRK3    0\n",
      "ASTHMA3     0\n",
      "ADDEPEV3    0\n",
      "CHCKDNY2    0\n",
      "MARITAL     0\n",
      "COVIDPOS    0\n",
      "_IMPRACE    0\n",
      "_PHYS14D    0\n",
      "_MENT14D    0\n",
      "_AGE_G      0\n",
      "_BMI5CAT    0\n",
      "_EDUCAG     0\n",
      "_INCOMG1    0\n",
      "_SMOKER3    0\n",
      "_DRNKWK2    0\n",
      "DIABETE4    0\n",
      "dtype: int64\n"
     ]
    }
   ],
   "source": [
    "print(diabetes_complete.isnull().sum())"
   ]
  },
  {
   "cell_type": "code",
   "execution_count": 40,
   "id": "be33a60b",
   "metadata": {},
   "outputs": [
    {
     "data": {
      "text/plain": [
       "(445115, 23)"
      ]
     },
     "execution_count": 40,
     "metadata": {},
     "output_type": "execute_result"
    }
   ],
   "source": [
    "diabetes_complete.shape"
   ]
  },
  {
   "cell_type": "code",
   "execution_count": 41,
   "id": "1a7073c5",
   "metadata": {},
   "outputs": [
    {
     "name": "stderr",
     "output_type": "stream",
     "text": [
      "C:\\Users\\yzh7381\\AppData\\Local\\Temp\\ipykernel_28768\\153254632.py:29: UserWarning: Boolean Series key will be reindexed to match DataFrame index.\n",
      "  diabetes_clean = diabetes_complete.reset_index(drop=True)[~mask].copy()\n"
     ]
    }
   ],
   "source": [
    "# Delete missing values that were coded other than left blank\n",
    "conditions = {\n",
    "    'GENHLTH': [7, 9],\n",
    "    'PERSDOC3': [7, 9],\n",
    "    'EXERANY2': [7, 9],\n",
    "    'CVDINFR4': [7, 9],\n",
    "    'CVDCRHD4': [7, 9],\n",
    "    'CVDSTRK3': [7, 9],\n",
    "    'ASTHMA3': [7, 9],\n",
    "    'ADDEPEV3': [7, 9],\n",
    "    'CHCKDNY2': [7, 9],\n",
    "    'MARITAL': [9],\n",
    "    'COVIDPOS': [7, 9],\n",
    "    '_PHYS14D': [9],\n",
    "    '_MENT14D': [9],\n",
    "    '_EDUCAG': [9],\n",
    "    '_INCOMG1': [9],\n",
    "    '_SMOKER3': [9],\n",
    "    'SLEPTIM1': [77, 99],\n",
    "    '_DRNKWK2': [99900],\n",
    "    'DIABETE4': [7, 9]\n",
    "}\n",
    "\n",
    "# Drop rows based on conditions\n",
    "for column, values in conditions.items():\n",
    "    diabetes_complete = diabetes_complete[~diabetes_complete[column].isin(values)]\n",
    "\n",
    "# Reset the index of diabetes_complete and drop rows based on the mask\n",
    "diabetes_clean = diabetes_complete.reset_index(drop=True)[~mask].copy()"
   ]
  },
  {
   "cell_type": "code",
   "execution_count": 42,
   "id": "976c3fa4",
   "metadata": {
    "scrolled": true
   },
   "outputs": [
    {
     "name": "stdout",
     "output_type": "stream",
     "text": [
      "(203219, 23)\n"
     ]
    }
   ],
   "source": [
    "print(diabetes_clean.shape)"
   ]
  },
  {
   "cell_type": "code",
   "execution_count": 53,
   "id": "a989f7ae",
   "metadata": {},
   "outputs": [
    {
     "data": {
      "image/png": "[encoded data removed]",
      "text/plain": [
       "<Figure size 640x480 with 1 Axes>"
      ]
     },
     "metadata": {},
     "output_type": "display_data"
    }
   ],
   "source": [
    "import matplotlib.pyplot as plt\n",
    "\n",
    "# Plot histogram of 'SLEPTIM1'\n",
    "plt.hist(diabetes_clean['SLEPTIM1'], bins=20, color='skyblue', edgecolor='black')\n",
    "plt.title('Histogram of Time Sleep')\n",
    "plt.xlabel('SLEPTIM1')\n",
    "plt.ylabel('Frequency')\n",
    "plt.grid(True)\n",
    "plt.show()"
   ]
  },
  {
   "cell_type": "code",
   "execution_count": 54,
   "id": "9dafcb5e",
   "metadata": {},
   "outputs": [
    {
     "data": {
      "image/png": "[encoded data removed]",
      "text/plain": [
       "<Figure size 640x480 with 1 Axes>"
      ]
     },
     "metadata": {},
     "output_type": "display_data"
    }
   ],
   "source": [
    "# Plot histogram of '_DRNKWK2'\n",
    "plt.hist(diabetes_clean['_DRNKWK2'], bins=20, color='skyblue', edgecolor='black')\n",
    "plt.title('Histogram of Number of Drinks of Alcohol Beverages per Week')\n",
    "plt.xlabel('_DRNKWK2')\n",
    "plt.ylabel('Frequency')\n",
    "plt.grid(True)\n",
    "plt.show()"
   ]
  },
  {
   "cell_type": "code",
   "execution_count": 55,
   "id": "79e28125",
   "metadata": {
    "scrolled": false
   },
   "outputs": [
    {
     "data": {
      "text/plain": [
       "3.0    169509\n",
       "1.0     27347\n",
       "4.0      4557\n",
       "2.0      1806\n",
       "Name: DIABETE4, dtype: int64"
      ]
     },
     "execution_count": 55,
     "metadata": {},
     "output_type": "execute_result"
    }
   ],
   "source": [
    "diabetes_clean['DIABETE4'].value_counts() # Check the counts of each category for the target variable"
   ]
  },
  {
   "cell_type": "markdown",
   "id": "a42cf2d8",
   "metadata": {},
   "source": [
    "## Build NN"
   ]
  },
  {
   "cell_type": "markdown",
   "id": "0f1658dd",
   "metadata": {},
   "source": [
    "**1. One-hot encoding features**"
   ]
  },
  {
   "cell_type": "code",
   "execution_count": 74,
   "id": "c5610b32",
   "metadata": {},
   "outputs": [],
   "source": [
    "categorical_cols = [\n",
    "    'SEXVAR', 'GENHLTH', 'PERSDOC3', 'EXERANY2', 'CVDINFR4', 'CVDCRHD4',\n",
    "    'CVDSTRK3', 'ASTHMA3', 'ADDEPEV3', 'CHCKDNY2', 'MARITAL', 'COVIDPOS',\n",
    "    '_IMPRACE', '_PHYS14D', '_MENT14D', '_AGE_G', '_BMI5CAT', \n",
    "    '_EDUCAG', '_INCOMG1', '_SMOKER3'\n",
    "]\n",
    "\n",
    "diabetes_encoded = pd.get_dummies(diabetes_clean, columns=categorical_cols)"
   ]
  },
  {
   "cell_type": "code",
   "execution_count": 75,
   "id": "962f4254",
   "metadata": {
    "scrolled": true
   },
   "outputs": [
    {
     "name": "stdout",
     "output_type": "stream",
     "text": [
      "   SLEPTIM1      _DRNKWK2  DIABETE4  SEXVAR_1.0  SEXVAR_2.0  GENHLTH_1.0  \\\n",
      "1       5.0  5.397605e-79       3.0           0           1            0   \n",
      "2       9.0  1.400000e+02       3.0           0           1            0   \n",
      "4       8.0  5.397605e-79       3.0           0           1            0   \n",
      "6       7.0  2.300000e+01       1.0           0           1            0   \n",
      "7       8.0  5.397605e-79       3.0           0           1            0   \n",
      "\n",
      "   GENHLTH_2.0  GENHLTH_3.0  GENHLTH_4.0  GENHLTH_5.0  ...  _INCOMG1_2.0  \\\n",
      "1            1            0            0            0  ...             0   \n",
      "2            0            0            1            0  ...             0   \n",
      "4            0            1            0            0  ...             0   \n",
      "6            0            1            0            0  ...             0   \n",
      "7            0            0            1            0  ...             0   \n",
      "\n",
      "   _INCOMG1_3.0  _INCOMG1_4.0  _INCOMG1_5.0  _INCOMG1_6.0  _INCOMG1_7.0  \\\n",
      "1             0             0             0             1             0   \n",
      "2             1             0             0             0             0   \n",
      "4             0             0             1             0             0   \n",
      "6             0             0             1             0             0   \n",
      "7             1             0             0             0             0   \n",
      "\n",
      "   _SMOKER3_1.0  _SMOKER3_2.0  _SMOKER3_3.0  _SMOKER3_4.0  \n",
      "1             0             0             0             1  \n",
      "2             0             0             0             1  \n",
      "4             0             0             0             1  \n",
      "6             0             0             0             1  \n",
      "7             0             0             0             1  \n",
      "\n",
      "[5 rows x 74 columns]\n"
     ]
    }
   ],
   "source": [
    "print(diabetes_encoded.head())"
   ]
  },
  {
   "cell_type": "markdown",
   "id": "eba2a18e",
   "metadata": {},
   "source": [
    "**2. Split training and test sets**"
   ]
  },
  {
   "cell_type": "code",
   "execution_count": 81,
   "id": "df3f67ed",
   "metadata": {},
   "outputs": [],
   "source": [
    "from sklearn.model_selection import train_test_split\n",
    "import tensorflow as tf"
   ]
  },
  {
   "cell_type": "code",
   "execution_count": 82,
   "id": "10ff257f",
   "metadata": {},
   "outputs": [],
   "source": [
    "# Define the target and features\n",
    "X = diabetes_encoded.drop(columns=['DIABETE4'])\n",
    "y = diabetes_encoded['DIABETE4']"
   ]
  },
  {
   "cell_type": "code",
   "execution_count": 84,
   "id": "a8044706",
   "metadata": {},
   "outputs": [],
   "source": [
    "# One-hot encode the target variable\n",
    "y = pd.get_dummies(y).values"
   ]
  },
  {
   "cell_type": "code",
   "execution_count": 86,
   "id": "657b4a10",
   "metadata": {},
   "outputs": [],
   "source": [
    "X_train, X_test, y_train, y_test = train_test_split(X, y, test_size=0.25, random_state=42)"
   ]
  },
  {
   "cell_type": "code",
   "execution_count": 87,
   "id": "6b6e0580",
   "metadata": {},
   "outputs": [
    {
     "name": "stdout",
     "output_type": "stream",
     "text": [
      "Train set shape: (152414, 73) (152414, 4)\n",
      "Test set shape: (50805, 73) (50805, 4)\n"
     ]
    }
   ],
   "source": [
    "# Check the shapes of the resulting sets\n",
    "print(\"Train set shape:\", X_train.shape, y_train.shape)\n",
    "print(\"Test set shape:\", X_test.shape, y_test.shape)"
   ]
  },
  {
   "cell_type": "markdown",
   "id": "e196fcb2",
   "metadata": {},
   "source": [
    "**3. First, build a NN model with a single hidden layer**"
   ]
  },
  {
   "cell_type": "code",
   "execution_count": 132,
   "id": "e0e0daa0",
   "metadata": {},
   "outputs": [],
   "source": [
    "from tensorflow.keras.models import Sequential\n",
    "from tensorflow.keras.layers import Dense, Input"
   ]
  },
  {
   "cell_type": "code",
   "execution_count": 133,
   "id": "d8c2f48e",
   "metadata": {},
   "outputs": [],
   "source": [
    "# Build the neural network using the Sequential model with an Input layer\n",
    "model_1 = Sequential([\n",
    "    Input(shape=(X_train.shape[1],)),\n",
    "    Dense(32, activation='relu'),\n",
    "    Dense(y.shape[1], activation='softmax')\n",
    "])"
   ]
  },
  {
   "cell_type": "code",
   "execution_count": 134,
   "id": "83429769",
   "metadata": {},
   "outputs": [],
   "source": [
    "# Compile the model\n",
    "model_1.compile(loss='categorical_crossentropy', optimizer='adam', metrics=['accuracy'])"
   ]
  },
  {
   "cell_type": "code",
   "execution_count": 135,
   "id": "8a612d8c",
   "metadata": {},
   "outputs": [
    {
     "name": "stdout",
     "output_type": "stream",
     "text": [
      "Epoch 1/50\n",
      "\u001b[1m1787/1787\u001b[0m \u001b[32m━━━━━━━━━━━━━━━━━━━━\u001b[0m\u001b[37m\u001b[0m \u001b[1m2s\u001b[0m 695us/step - accuracy: 0.7845 - loss: 6.9813 - val_accuracy: 0.8319 - val_loss: 0.6467\n",
      "Epoch 2/50\n",
      "\u001b[1m1787/1787\u001b[0m \u001b[32m━━━━━━━━━━━━━━━━━━━━\u001b[0m\u001b[37m\u001b[0m \u001b[1m1s\u001b[0m 623us/step - accuracy: 0.8325 - loss: 0.6382 - val_accuracy: 0.8348 - val_loss: 0.5136\n",
      "Epoch 3/50\n",
      "\u001b[1m1787/1787\u001b[0m \u001b[32m━━━━━━━━━━━━━━━━━━━━\u001b[0m\u001b[37m\u001b[0m \u001b[1m1s\u001b[0m 633us/step - accuracy: 0.8361 - loss: 0.6232 - val_accuracy: 0.8343 - val_loss: 0.6085\n",
      "Epoch 4/50\n",
      "\u001b[1m1787/1787\u001b[0m \u001b[32m━━━━━━━━━━━━━━━━━━━━\u001b[0m\u001b[37m\u001b[0m \u001b[1m1s\u001b[0m 644us/step - accuracy: 0.8344 - loss: 0.5840 - val_accuracy: 0.7993 - val_loss: 0.6334\n",
      "Epoch 5/50\n",
      "\u001b[1m1787/1787\u001b[0m \u001b[32m━━━━━━━━━━━━━━━━━━━━\u001b[0m\u001b[37m\u001b[0m \u001b[1m1s\u001b[0m 645us/step - accuracy: 0.8338 - loss: 0.5660 - val_accuracy: 0.8321 - val_loss: 0.4883\n",
      "Epoch 6/50\n",
      "\u001b[1m1787/1787\u001b[0m \u001b[32m━━━━━━━━━━━━━━━━━━━━\u001b[0m\u001b[37m\u001b[0m \u001b[1m1s\u001b[0m 647us/step - accuracy: 0.8356 - loss: 0.5590 - val_accuracy: 0.8351 - val_loss: 0.5513\n",
      "Epoch 7/50\n",
      "\u001b[1m1787/1787\u001b[0m \u001b[32m━━━━━━━━━━━━━━━━━━━━\u001b[0m\u001b[37m\u001b[0m \u001b[1m2s\u001b[0m 885us/step - accuracy: 0.8342 - loss: 0.5647 - val_accuracy: 0.8352 - val_loss: 0.5214\n",
      "Epoch 8/50\n",
      "\u001b[1m1787/1787\u001b[0m \u001b[32m━━━━━━━━━━━━━━━━━━━━\u001b[0m\u001b[37m\u001b[0m \u001b[1m2s\u001b[0m 965us/step - accuracy: 0.8366 - loss: 0.5564 - val_accuracy: 0.8339 - val_loss: 0.4765\n",
      "Epoch 9/50\n",
      "\u001b[1m1787/1787\u001b[0m \u001b[32m━━━━━━━━━━━━━━━━━━━━\u001b[0m\u001b[37m\u001b[0m \u001b[1m2s\u001b[0m 942us/step - accuracy: 0.8351 - loss: 0.5361 - val_accuracy: 0.8341 - val_loss: 0.4776\n",
      "Epoch 10/50\n",
      "\u001b[1m1787/1787\u001b[0m \u001b[32m━━━━━━━━━━━━━━━━━━━━\u001b[0m\u001b[37m\u001b[0m \u001b[1m2s\u001b[0m 946us/step - accuracy: 0.8390 - loss: 0.5026 - val_accuracy: 0.8350 - val_loss: 0.7627\n",
      "Epoch 11/50\n",
      "\u001b[1m1787/1787\u001b[0m \u001b[32m━━━━━━━━━━━━━━━━━━━━\u001b[0m\u001b[37m\u001b[0m \u001b[1m2s\u001b[0m 922us/step - accuracy: 0.8370 - loss: 0.5347 - val_accuracy: 0.8354 - val_loss: 0.5142\n",
      "Epoch 12/50\n",
      "\u001b[1m1787/1787\u001b[0m \u001b[32m━━━━━━━━━━━━━━━━━━━━\u001b[0m\u001b[37m\u001b[0m \u001b[1m2s\u001b[0m 916us/step - accuracy: 0.8398 - loss: 0.5027 - val_accuracy: 0.8342 - val_loss: 0.5202\n",
      "Epoch 13/50\n",
      "\u001b[1m1787/1787\u001b[0m \u001b[32m━━━━━━━━━━━━━━━━━━━━\u001b[0m\u001b[37m\u001b[0m \u001b[1m2s\u001b[0m 950us/step - accuracy: 0.8366 - loss: 0.5146 - val_accuracy: 0.8345 - val_loss: 0.5175\n",
      "Epoch 14/50\n",
      "\u001b[1m1787/1787\u001b[0m \u001b[32m━━━━━━━━━━━━━━━━━━━━\u001b[0m\u001b[37m\u001b[0m \u001b[1m2s\u001b[0m 968us/step - accuracy: 0.8399 - loss: 0.5018 - val_accuracy: 0.8341 - val_loss: 0.4802\n",
      "Epoch 15/50\n",
      "\u001b[1m1787/1787\u001b[0m \u001b[32m━━━━━━━━━━━━━━━━━━━━\u001b[0m\u001b[37m\u001b[0m \u001b[1m2s\u001b[0m 993us/step - accuracy: 0.8399 - loss: 0.4872 - val_accuracy: 0.8355 - val_loss: 0.5124\n",
      "Epoch 16/50\n",
      "\u001b[1m1787/1787\u001b[0m \u001b[32m━━━━━━━━━━━━━━━━━━━━\u001b[0m\u001b[37m\u001b[0m \u001b[1m2s\u001b[0m 971us/step - accuracy: 0.8386 - loss: 0.5033 - val_accuracy: 0.8354 - val_loss: 0.5796\n",
      "Epoch 17/50\n",
      "\u001b[1m1787/1787\u001b[0m \u001b[32m━━━━━━━━━━━━━━━━━━━━\u001b[0m\u001b[37m\u001b[0m \u001b[1m2s\u001b[0m 945us/step - accuracy: 0.8401 - loss: 0.4934 - val_accuracy: 0.8346 - val_loss: 0.4963\n",
      "Epoch 18/50\n",
      "\u001b[1m1787/1787\u001b[0m \u001b[32m━━━━━━━━━━━━━━━━━━━━\u001b[0m\u001b[37m\u001b[0m \u001b[1m2s\u001b[0m 1ms/step - accuracy: 0.8413 - loss: 0.4780 - val_accuracy: 0.8342 - val_loss: 0.5421\n",
      "Epoch 19/50\n",
      "\u001b[1m1787/1787\u001b[0m \u001b[32m━━━━━━━━━━━━━━━━━━━━\u001b[0m\u001b[37m\u001b[0m \u001b[1m2s\u001b[0m 964us/step - accuracy: 0.8400 - loss: 0.4708 - val_accuracy: 0.8335 - val_loss: 0.4932\n",
      "Epoch 20/50\n",
      "\u001b[1m1787/1787\u001b[0m \u001b[32m━━━━━━━━━━━━━━━━━━━━\u001b[0m\u001b[37m\u001b[0m \u001b[1m2s\u001b[0m 955us/step - accuracy: 0.8396 - loss: 0.4791 - val_accuracy: 0.8343 - val_loss: 0.4833\n",
      "Epoch 21/50\n",
      "\u001b[1m1787/1787\u001b[0m \u001b[32m━━━━━━━━━━━━━━━━━━━━\u001b[0m\u001b[37m\u001b[0m \u001b[1m2s\u001b[0m 909us/step - accuracy: 0.8400 - loss: 0.5046 - val_accuracy: 0.8324 - val_loss: 0.4803\n",
      "Epoch 22/50\n",
      "\u001b[1m1787/1787\u001b[0m \u001b[32m━━━━━━━━━━━━━━━━━━━━\u001b[0m\u001b[37m\u001b[0m \u001b[1m2s\u001b[0m 921us/step - accuracy: 0.8419 - loss: 0.4645 - val_accuracy: 0.8346 - val_loss: 0.4970\n",
      "Epoch 23/50\n",
      "\u001b[1m1787/1787\u001b[0m \u001b[32m━━━━━━━━━━━━━━━━━━━━\u001b[0m\u001b[37m\u001b[0m \u001b[1m2s\u001b[0m 940us/step - accuracy: 0.8387 - loss: 0.4712 - val_accuracy: 0.8253 - val_loss: 0.5025\n",
      "Epoch 24/50\n",
      "\u001b[1m1787/1787\u001b[0m \u001b[32m━━━━━━━━━━━━━━━━━━━━\u001b[0m\u001b[37m\u001b[0m \u001b[1m2s\u001b[0m 956us/step - accuracy: 0.8403 - loss: 0.4820 - val_accuracy: 0.8309 - val_loss: 0.4809\n",
      "Epoch 25/50\n",
      "\u001b[1m1787/1787\u001b[0m \u001b[32m━━━━━━━━━━━━━━━━━━━━\u001b[0m\u001b[37m\u001b[0m \u001b[1m2s\u001b[0m 910us/step - accuracy: 0.8403 - loss: 0.4677 - val_accuracy: 0.8346 - val_loss: 0.4827\n",
      "Epoch 26/50\n",
      "\u001b[1m1787/1787\u001b[0m \u001b[32m━━━━━━━━━━━━━━━━━━━━\u001b[0m\u001b[37m\u001b[0m \u001b[1m2s\u001b[0m 887us/step - accuracy: 0.8392 - loss: 0.4765 - val_accuracy: 0.8348 - val_loss: 0.4911\n",
      "Epoch 27/50\n",
      "\u001b[1m1787/1787\u001b[0m \u001b[32m━━━━━━━━━━━━━━━━━━━━\u001b[0m\u001b[37m\u001b[0m \u001b[1m2s\u001b[0m 891us/step - accuracy: 0.8388 - loss: 0.4747 - val_accuracy: 0.8355 - val_loss: 0.4722\n",
      "Epoch 28/50\n",
      "\u001b[1m1787/1787\u001b[0m \u001b[32m━━━━━━━━━━━━━━━━━━━━\u001b[0m\u001b[37m\u001b[0m \u001b[1m2s\u001b[0m 942us/step - accuracy: 0.8419 - loss: 0.4576 - val_accuracy: 0.8344 - val_loss: 0.4701\n",
      "Epoch 29/50\n",
      "\u001b[1m1787/1787\u001b[0m \u001b[32m━━━━━━━━━━━━━━━━━━━━\u001b[0m\u001b[37m\u001b[0m \u001b[1m2s\u001b[0m 920us/step - accuracy: 0.8404 - loss: 0.4575 - val_accuracy: 0.8326 - val_loss: 0.5062\n",
      "Epoch 30/50\n",
      "\u001b[1m1787/1787\u001b[0m \u001b[32m━━━━━━━━━━━━━━━━━━━━\u001b[0m\u001b[37m\u001b[0m \u001b[1m2s\u001b[0m 1ms/step - accuracy: 0.8397 - loss: 0.4614 - val_accuracy: 0.8346 - val_loss: 0.4683\n",
      "Epoch 31/50\n",
      "\u001b[1m1787/1787\u001b[0m \u001b[32m━━━━━━━━━━━━━━━━━━━━\u001b[0m\u001b[37m\u001b[0m \u001b[1m2s\u001b[0m 917us/step - accuracy: 0.8402 - loss: 0.4564 - val_accuracy: 0.8337 - val_loss: 0.4672\n",
      "Epoch 32/50\n",
      "\u001b[1m1787/1787\u001b[0m \u001b[32m━━━━━━━━━━━━━━━━━━━━\u001b[0m\u001b[37m\u001b[0m \u001b[1m2s\u001b[0m 884us/step - accuracy: 0.8386 - loss: 0.4600 - val_accuracy: 0.8348 - val_loss: 0.4791\n",
      "Epoch 33/50\n",
      "\u001b[1m1787/1787\u001b[0m \u001b[32m━━━━━━━━━━━━━━━━━━━━\u001b[0m\u001b[37m\u001b[0m \u001b[1m2s\u001b[0m 943us/step - accuracy: 0.8415 - loss: 0.4509 - val_accuracy: 0.8330 - val_loss: 0.4792\n",
      "Epoch 34/50\n",
      "\u001b[1m1787/1787\u001b[0m \u001b[32m━━━━━━━━━━━━━━━━━━━━\u001b[0m\u001b[37m\u001b[0m \u001b[1m2s\u001b[0m 907us/step - accuracy: 0.8413 - loss: 0.4561 - val_accuracy: 0.8344 - val_loss: 0.4686\n",
      "Epoch 35/50\n",
      "\u001b[1m1787/1787\u001b[0m \u001b[32m━━━━━━━━━━━━━━━━━━━━\u001b[0m\u001b[37m\u001b[0m \u001b[1m2s\u001b[0m 964us/step - accuracy: 0.8427 - loss: 0.4511 - val_accuracy: 0.8341 - val_loss: 0.4690\n",
      "Epoch 36/50\n",
      "\u001b[1m1787/1787\u001b[0m \u001b[32m━━━━━━━━━━━━━━━━━━━━\u001b[0m\u001b[37m\u001b[0m \u001b[1m2s\u001b[0m 922us/step - accuracy: 0.8438 - loss: 0.4458 - val_accuracy: 0.8354 - val_loss: 0.4683\n",
      "Epoch 37/50\n",
      "\u001b[1m1787/1787\u001b[0m \u001b[32m━━━━━━━━━━━━━━━━━━━━\u001b[0m\u001b[37m\u001b[0m \u001b[1m2s\u001b[0m 907us/step - accuracy: 0.8428 - loss: 0.4443 - val_accuracy: 0.8343 - val_loss: 0.4873\n",
      "Epoch 38/50\n",
      "\u001b[1m1787/1787\u001b[0m \u001b[32m━━━━━━━━━━━━━━━━━━━━\u001b[0m\u001b[37m\u001b[0m \u001b[1m2s\u001b[0m 937us/step - accuracy: 0.8407 - loss: 0.4493 - val_accuracy: 0.8337 - val_loss: 0.5989\n",
      "Epoch 39/50\n",
      "\u001b[1m1787/1787\u001b[0m \u001b[32m━━━━━━━━━━━━━━━━━━━━\u001b[0m\u001b[37m\u001b[0m \u001b[1m2s\u001b[0m 923us/step - accuracy: 0.8405 - loss: 0.4523 - val_accuracy: 0.8284 - val_loss: 0.4976\n",
      "Epoch 40/50\n",
      "\u001b[1m1787/1787\u001b[0m \u001b[32m━━━━━━━━━━━━━━━━━━━━\u001b[0m\u001b[37m\u001b[0m \u001b[1m2s\u001b[0m 923us/step - accuracy: 0.8424 - loss: 0.4476 - val_accuracy: 0.8335 - val_loss: 0.4709\n",
      "Epoch 41/50\n",
      "\u001b[1m1787/1787\u001b[0m \u001b[32m━━━━━━━━━━━━━━━━━━━━\u001b[0m\u001b[37m\u001b[0m \u001b[1m2s\u001b[0m 915us/step - accuracy: 0.8421 - loss: 0.4483 - val_accuracy: 0.8330 - val_loss: 0.4717\n",
      "Epoch 42/50\n",
      "\u001b[1m1787/1787\u001b[0m \u001b[32m━━━━━━━━━━━━━━━━━━━━\u001b[0m\u001b[37m\u001b[0m \u001b[1m2s\u001b[0m 940us/step - accuracy: 0.8429 - loss: 0.4462 - val_accuracy: 0.8325 - val_loss: 0.4791\n",
      "Epoch 43/50\n",
      "\u001b[1m1787/1787\u001b[0m \u001b[32m━━━━━━━━━━━━━━━━━━━━\u001b[0m\u001b[37m\u001b[0m \u001b[1m2s\u001b[0m 904us/step - accuracy: 0.8428 - loss: 0.4469 - val_accuracy: 0.8326 - val_loss: 0.4767\n",
      "Epoch 44/50\n",
      "\u001b[1m1787/1787\u001b[0m \u001b[32m━━━━━━━━━━━━━━━━━━━━\u001b[0m\u001b[37m\u001b[0m \u001b[1m2s\u001b[0m 951us/step - accuracy: 0.8416 - loss: 0.4479 - val_accuracy: 0.8334 - val_loss: 0.4714\n",
      "Epoch 45/50\n",
      "\u001b[1m1787/1787\u001b[0m \u001b[32m━━━━━━━━━━━━━━━━━━━━\u001b[0m\u001b[37m\u001b[0m \u001b[1m2s\u001b[0m 944us/step - accuracy: 0.8417 - loss: 0.4463 - val_accuracy: 0.8339 - val_loss: 0.4745\n",
      "Epoch 46/50\n",
      "\u001b[1m1787/1787\u001b[0m \u001b[32m━━━━━━━━━━━━━━━━━━━━\u001b[0m\u001b[37m\u001b[0m \u001b[1m2s\u001b[0m 980us/step - accuracy: 0.8428 - loss: 0.4451 - val_accuracy: 0.8343 - val_loss: 0.4701\n",
      "Epoch 47/50\n",
      "\u001b[1m1787/1787\u001b[0m \u001b[32m━━━━━━━━━━━━━━━━━━━━\u001b[0m\u001b[37m\u001b[0m \u001b[1m2s\u001b[0m 949us/step - accuracy: 0.8419 - loss: 0.4482 - val_accuracy: 0.8345 - val_loss: 0.4683\n",
      "Epoch 48/50\n",
      "\u001b[1m1787/1787\u001b[0m \u001b[32m━━━━━━━━━━━━━━━━━━━━\u001b[0m\u001b[37m\u001b[0m \u001b[1m2s\u001b[0m 959us/step - accuracy: 0.8437 - loss: 0.4412 - val_accuracy: 0.8338 - val_loss: 0.4683\n",
      "Epoch 49/50\n",
      "\u001b[1m1787/1787\u001b[0m \u001b[32m━━━━━━━━━━━━━━━━━━━━\u001b[0m\u001b[37m\u001b[0m \u001b[1m2s\u001b[0m 958us/step - accuracy: 0.8426 - loss: 0.4424 - val_accuracy: 0.8336 - val_loss: 0.4745\n",
      "Epoch 50/50\n"
     ]
    },
    {
     "name": "stdout",
     "output_type": "stream",
     "text": [
      "\u001b[1m1787/1787\u001b[0m \u001b[32m━━━━━━━━━━━━━━━━━━━━\u001b[0m\u001b[37m\u001b[0m \u001b[1m2s\u001b[0m 929us/step - accuracy: 0.8444 - loss: 0.4380 - val_accuracy: 0.8345 - val_loss: 0.4723\n"
     ]
    }
   ],
   "source": [
    "# Train the model\n",
    "history_1 = model_1.fit(X_train, y_train, epochs=50, batch_size=64, validation_split=0.25)"
   ]
  },
  {
   "cell_type": "code",
   "execution_count": 136,
   "id": "ece828ad",
   "metadata": {
    "scrolled": true
   },
   "outputs": [
    {
     "data": {
      "text/html": [
       "<pre style=\"white-space:pre;overflow-x:auto;line-height:normal;font-family:Menlo,'DejaVu Sans Mono',consolas,'Courier New',monospace\"><span style=\"font-weight: bold\">Model: \"sequential_6\"</span>\n",
       "</pre>\n"
      ],
      "text/plain": [
       "\u001b[1mModel: \"sequential_6\"\u001b[0m\n"
      ]
     },
     "metadata": {},
     "output_type": "display_data"
    },
    {
     "data": {
      "text/html": [
       "<pre style=\"white-space:pre;overflow-x:auto;line-height:normal;font-family:Menlo,'DejaVu Sans Mono',consolas,'Courier New',monospace\">┏━━━━━━━━━━━━━━━━━━━━━━━━━━━━━━━━━┳━━━━━━━━━━━━━━━━━━━━━━━━┳━━━━━━━━━━━━━━━┓\n",
       "┃<span style=\"font-weight: bold\"> Layer (type)                    </span>┃<span style=\"font-weight: bold\"> Output Shape           </span>┃<span style=\"font-weight: bold\">       Param # </span>┃\n",
       "┡━━━━━━━━━━━━━━━━━━━━━━━━━━━━━━━━━╇━━━━━━━━━━━━━━━━━━━━━━━━╇━━━━━━━━━━━━━━━┩\n",
       "│ dense_12 (<span style=\"color: #0087ff; text-decoration-color: #0087ff\">Dense</span>)                │ (<span style=\"color: #00d7ff; text-decoration-color: #00d7ff\">None</span>, <span style=\"color: #00af00; text-decoration-color: #00af00\">32</span>)             │         <span style=\"color: #00af00; text-decoration-color: #00af00\">2,368</span> │\n",
       "├─────────────────────────────────┼────────────────────────┼───────────────┤\n",
       "│ dense_13 (<span style=\"color: #0087ff; text-decoration-color: #0087ff\">Dense</span>)                │ (<span style=\"color: #00d7ff; text-decoration-color: #00d7ff\">None</span>, <span style=\"color: #00af00; text-decoration-color: #00af00\">4</span>)              │           <span style=\"color: #00af00; text-decoration-color: #00af00\">132</span> │\n",
       "└─────────────────────────────────┴────────────────────────┴───────────────┘\n",
       "</pre>\n"
      ],
      "text/plain": [
       "┏━━━━━━━━━━━━━━━━━━━━━━━━━━━━━━━━━┳━━━━━━━━━━━━━━━━━━━━━━━━┳━━━━━━━━━━━━━━━┓\n",
       "┃\u001b[1m \u001b[0m\u001b[1mLayer (type)                   \u001b[0m\u001b[1m \u001b[0m┃\u001b[1m \u001b[0m\u001b[1mOutput Shape          \u001b[0m\u001b[1m \u001b[0m┃\u001b[1m \u001b[0m\u001b[1m      Param #\u001b[0m\u001b[1m \u001b[0m┃\n",
       "┡━━━━━━━━━━━━━━━━━━━━━━━━━━━━━━━━━╇━━━━━━━━━━━━━━━━━━━━━━━━╇━━━━━━━━━━━━━━━┩\n",
       "│ dense_12 (\u001b[38;5;33mDense\u001b[0m)                │ (\u001b[38;5;45mNone\u001b[0m, \u001b[38;5;34m32\u001b[0m)             │         \u001b[38;5;34m2,368\u001b[0m │\n",
       "├─────────────────────────────────┼────────────────────────┼───────────────┤\n",
       "│ dense_13 (\u001b[38;5;33mDense\u001b[0m)                │ (\u001b[38;5;45mNone\u001b[0m, \u001b[38;5;34m4\u001b[0m)              │           \u001b[38;5;34m132\u001b[0m │\n",
       "└─────────────────────────────────┴────────────────────────┴───────────────┘\n"
      ]
     },
     "metadata": {},
     "output_type": "display_data"
    },
    {
     "data": {
      "text/html": [
       "<pre style=\"white-space:pre;overflow-x:auto;line-height:normal;font-family:Menlo,'DejaVu Sans Mono',consolas,'Courier New',monospace\"><span style=\"font-weight: bold\"> Total params: </span><span style=\"color: #00af00; text-decoration-color: #00af00\">7,502</span> (29.31 KB)\n",
       "</pre>\n"
      ],
      "text/plain": [
       "\u001b[1m Total params: \u001b[0m\u001b[38;5;34m7,502\u001b[0m (29.31 KB)\n"
      ]
     },
     "metadata": {},
     "output_type": "display_data"
    },
    {
     "data": {
      "text/html": [
       "<pre style=\"white-space:pre;overflow-x:auto;line-height:normal;font-family:Menlo,'DejaVu Sans Mono',consolas,'Courier New',monospace\"><span style=\"font-weight: bold\"> Trainable params: </span><span style=\"color: #00af00; text-decoration-color: #00af00\">2,500</span> (9.77 KB)\n",
       "</pre>\n"
      ],
      "text/plain": [
       "\u001b[1m Trainable params: \u001b[0m\u001b[38;5;34m2,500\u001b[0m (9.77 KB)\n"
      ]
     },
     "metadata": {},
     "output_type": "display_data"
    },
    {
     "data": {
      "text/html": [
       "<pre style=\"white-space:pre;overflow-x:auto;line-height:normal;font-family:Menlo,'DejaVu Sans Mono',consolas,'Courier New',monospace\"><span style=\"font-weight: bold\"> Non-trainable params: </span><span style=\"color: #00af00; text-decoration-color: #00af00\">0</span> (0.00 B)\n",
       "</pre>\n"
      ],
      "text/plain": [
       "\u001b[1m Non-trainable params: \u001b[0m\u001b[38;5;34m0\u001b[0m (0.00 B)\n"
      ]
     },
     "metadata": {},
     "output_type": "display_data"
    },
    {
     "data": {
      "text/html": [
       "<pre style=\"white-space:pre;overflow-x:auto;line-height:normal;font-family:Menlo,'DejaVu Sans Mono',consolas,'Courier New',monospace\"><span style=\"font-weight: bold\"> Optimizer params: </span><span style=\"color: #00af00; text-decoration-color: #00af00\">5,002</span> (19.54 KB)\n",
       "</pre>\n"
      ],
      "text/plain": [
       "\u001b[1m Optimizer params: \u001b[0m\u001b[38;5;34m5,002\u001b[0m (19.54 KB)\n"
      ]
     },
     "metadata": {},
     "output_type": "display_data"
    },
    {
     "name": "stdout",
     "output_type": "stream",
     "text": [
      "None\n"
     ]
    }
   ],
   "source": [
    "print(model_1.summary())"
   ]
  },
  {
   "cell_type": "markdown",
   "id": "535b1ca3",
   "metadata": {},
   "source": [
    "**4. Plot the training and validation loss**"
   ]
  },
  {
   "cell_type": "code",
   "execution_count": 137,
   "id": "e1b9a255",
   "metadata": {},
   "outputs": [
    {
     "data": {
      "image/png": "[encoded data removed]",
      "text/plain": [
       "<Figure size 640x480 with 1 Axes>"
      ]
     },
     "metadata": {},
     "output_type": "display_data"
    }
   ],
   "source": [
    "import matplotlib.pyplot as plt\n",
    "\n",
    "# Get training and validation loss from the history object\n",
    "train_loss = history_1.history['loss']\n",
    "val_loss = history_1.history['val_loss']\n",
    "\n",
    "# Plot training and validation loss\n",
    "epochs = range(1, len(train_loss) + 1)\n",
    "plt.plot(epochs, train_loss, 'b', label='Training loss')\n",
    "plt.plot(epochs, val_loss, 'r', label='Validation loss')\n",
    "plt.title('Training and Validation Loss')\n",
    "plt.xlabel('Epochs')\n",
    "plt.ylabel('Loss')\n",
    "plt.legend()\n",
    "plt.show()"
   ]
  },
  {
   "cell_type": "code",
   "execution_count": 138,
   "id": "3081616f",
   "metadata": {
    "scrolled": true
   },
   "outputs": [
    {
     "name": "stdout",
     "output_type": "stream",
     "text": [
      "\u001b[1m794/794\u001b[0m \u001b[32m━━━━━━━━━━━━━━━━━━━━\u001b[0m\u001b[37m\u001b[0m \u001b[1m0s\u001b[0m 427us/step - accuracy: 0.8375 - loss: 0.4580\n",
      "Test Loss: 0.4623155891895294\n",
      "Test Accuracy: 0.837023913860321\n"
     ]
    }
   ],
   "source": [
    "# Evaluate the model on the test data\n",
    "loss_1, accuracy_1 = model_1.evaluate(X_test, y_test, batch_size=64)\n",
    "\n",
    "# Print the loss value and accuracy value\n",
    "print(\"Test Loss:\", loss_1)\n",
    "print(\"Test Accuracy:\", accuracy_1)"
   ]
  },
  {
   "cell_type": "markdown",
   "id": "c31c78de",
   "metadata": {},
   "source": [
    "**5. Add a dropout layer**"
   ]
  },
  {
   "cell_type": "code",
   "execution_count": 140,
   "id": "6beef454",
   "metadata": {},
   "outputs": [],
   "source": [
    "from keras.layers import Dropout"
   ]
  },
  {
   "cell_type": "code",
   "execution_count": 141,
   "id": "47848719",
   "metadata": {},
   "outputs": [],
   "source": [
    "# Build a model with dropout regularization\n",
    "model_2 = Sequential([\n",
    "    Input(shape=(X_train.shape[1],)),\n",
    "    Dense(32, activation='relu'),\n",
    "    Dropout(0.3),  # Dropout layer with 30% dropout rate\n",
    "    Dense(y_train.shape[1], activation='softmax')\n",
    "])"
   ]
  },
  {
   "cell_type": "code",
   "execution_count": 142,
   "id": "d2fdef3d",
   "metadata": {},
   "outputs": [],
   "source": [
    "# Compile the model\n",
    "model_2.compile(loss='categorical_crossentropy', optimizer='adam', metrics=['accuracy'])"
   ]
  },
  {
   "cell_type": "code",
   "execution_count": 143,
   "id": "75d44802",
   "metadata": {},
   "outputs": [
    {
     "name": "stdout",
     "output_type": "stream",
     "text": [
      "Epoch 1/50\n",
      "\u001b[1m1787/1787\u001b[0m \u001b[32m━━━━━━━━━━━━━━━━━━━━\u001b[0m\u001b[37m\u001b[0m \u001b[1m2s\u001b[0m 746us/step - accuracy: 0.7016 - loss: 15.2027 - val_accuracy: 0.8322 - val_loss: 0.6273\n",
      "Epoch 2/50\n",
      "\u001b[1m1787/1787\u001b[0m \u001b[32m━━━━━━━━━━━━━━━━━━━━\u001b[0m\u001b[37m\u001b[0m \u001b[1m1s\u001b[0m 673us/step - accuracy: 0.8374 - loss: 0.5598 - val_accuracy: 0.8341 - val_loss: 0.4942\n",
      "Epoch 3/50\n",
      "\u001b[1m1787/1787\u001b[0m \u001b[32m━━━━━━━━━━━━━━━━━━━━\u001b[0m\u001b[37m\u001b[0m \u001b[1m1s\u001b[0m 684us/step - accuracy: 0.8377 - loss: 0.4874 - val_accuracy: 0.8349 - val_loss: 0.4755\n",
      "Epoch 4/50\n",
      "\u001b[1m1787/1787\u001b[0m \u001b[32m━━━━━━━━━━━━━━━━━━━━\u001b[0m\u001b[37m\u001b[0m \u001b[1m1s\u001b[0m 686us/step - accuracy: 0.8387 - loss: 0.4757 - val_accuracy: 0.8349 - val_loss: 0.4862\n",
      "Epoch 5/50\n",
      "\u001b[1m1787/1787\u001b[0m \u001b[32m━━━━━━━━━━━━━━━━━━━━\u001b[0m\u001b[37m\u001b[0m \u001b[1m1s\u001b[0m 683us/step - accuracy: 0.8368 - loss: 0.4774 - val_accuracy: 0.8336 - val_loss: 0.4775\n",
      "Epoch 6/50\n",
      "\u001b[1m1787/1787\u001b[0m \u001b[32m━━━━━━━━━━━━━━━━━━━━\u001b[0m\u001b[37m\u001b[0m \u001b[1m1s\u001b[0m 697us/step - accuracy: 0.8372 - loss: 0.4745 - val_accuracy: 0.8352 - val_loss: 0.4716\n",
      "Epoch 7/50\n",
      "\u001b[1m1787/1787\u001b[0m \u001b[32m━━━━━━━━━━━━━━━━━━━━\u001b[0m\u001b[37m\u001b[0m \u001b[1m1s\u001b[0m 700us/step - accuracy: 0.8387 - loss: 0.4661 - val_accuracy: 0.8353 - val_loss: 0.4738\n",
      "Epoch 8/50\n",
      "\u001b[1m1787/1787\u001b[0m \u001b[32m━━━━━━━━━━━━━━━━━━━━\u001b[0m\u001b[37m\u001b[0m \u001b[1m2s\u001b[0m 1ms/step - accuracy: 0.8393 - loss: 0.4689 - val_accuracy: 0.8336 - val_loss: 0.4717\n",
      "Epoch 9/50\n",
      "\u001b[1m1787/1787\u001b[0m \u001b[32m━━━━━━━━━━━━━━━━━━━━\u001b[0m\u001b[37m\u001b[0m \u001b[1m2s\u001b[0m 988us/step - accuracy: 0.8409 - loss: 0.4649 - val_accuracy: 0.8351 - val_loss: 0.4740\n",
      "Epoch 10/50\n",
      "\u001b[1m1787/1787\u001b[0m \u001b[32m━━━━━━━━━━━━━━━━━━━━\u001b[0m\u001b[37m\u001b[0m \u001b[1m2s\u001b[0m 1ms/step - accuracy: 0.8397 - loss: 0.4654 - val_accuracy: 0.8344 - val_loss: 0.4715\n",
      "Epoch 11/50\n",
      "\u001b[1m1787/1787\u001b[0m \u001b[32m━━━━━━━━━━━━━━━━━━━━\u001b[0m\u001b[37m\u001b[0m \u001b[1m2s\u001b[0m 977us/step - accuracy: 0.8386 - loss: 0.4668 - val_accuracy: 0.8347 - val_loss: 0.4707\n",
      "Epoch 12/50\n",
      "\u001b[1m1787/1787\u001b[0m \u001b[32m━━━━━━━━━━━━━━━━━━━━\u001b[0m\u001b[37m\u001b[0m \u001b[1m2s\u001b[0m 1ms/step - accuracy: 0.8398 - loss: 0.4627 - val_accuracy: 0.8343 - val_loss: 0.4804\n",
      "Epoch 13/50\n",
      "\u001b[1m1787/1787\u001b[0m \u001b[32m━━━━━━━━━━━━━━━━━━━━\u001b[0m\u001b[37m\u001b[0m \u001b[1m2s\u001b[0m 968us/step - accuracy: 0.8397 - loss: 0.4617 - val_accuracy: 0.8339 - val_loss: 0.4693\n",
      "Epoch 14/50\n",
      "\u001b[1m1787/1787\u001b[0m \u001b[32m━━━━━━━━━━━━━━━━━━━━\u001b[0m\u001b[37m\u001b[0m \u001b[1m2s\u001b[0m 967us/step - accuracy: 0.8388 - loss: 0.4605 - val_accuracy: 0.8348 - val_loss: 0.4687\n",
      "Epoch 15/50\n",
      "\u001b[1m1787/1787\u001b[0m \u001b[32m━━━━━━━━━━━━━━━━━━━━\u001b[0m\u001b[37m\u001b[0m \u001b[1m2s\u001b[0m 990us/step - accuracy: 0.8385 - loss: 0.4654 - val_accuracy: 0.8357 - val_loss: 0.4678\n",
      "Epoch 16/50\n",
      "\u001b[1m1787/1787\u001b[0m \u001b[32m━━━━━━━━━━━━━━━━━━━━\u001b[0m\u001b[37m\u001b[0m \u001b[1m2s\u001b[0m 987us/step - accuracy: 0.8396 - loss: 0.4613 - val_accuracy: 0.8342 - val_loss: 0.4683\n",
      "Epoch 17/50\n",
      "\u001b[1m1787/1787\u001b[0m \u001b[32m━━━━━━━━━━━━━━━━━━━━\u001b[0m\u001b[37m\u001b[0m \u001b[1m2s\u001b[0m 1ms/step - accuracy: 0.8388 - loss: 0.4615 - val_accuracy: 0.8350 - val_loss: 0.4656\n",
      "Epoch 18/50\n",
      "\u001b[1m1787/1787\u001b[0m \u001b[32m━━━━━━━━━━━━━━━━━━━━\u001b[0m\u001b[37m\u001b[0m \u001b[1m2s\u001b[0m 997us/step - accuracy: 0.8411 - loss: 0.4572 - val_accuracy: 0.8349 - val_loss: 0.4704\n",
      "Epoch 19/50\n",
      "\u001b[1m1787/1787\u001b[0m \u001b[32m━━━━━━━━━━━━━━━━━━━━\u001b[0m\u001b[37m\u001b[0m \u001b[1m2s\u001b[0m 1ms/step - accuracy: 0.8398 - loss: 0.4602 - val_accuracy: 0.8350 - val_loss: 0.4728\n",
      "Epoch 20/50\n",
      "\u001b[1m1787/1787\u001b[0m \u001b[32m━━━━━━━━━━━━━━━━━━━━\u001b[0m\u001b[37m\u001b[0m \u001b[1m2s\u001b[0m 1ms/step - accuracy: 0.8395 - loss: 0.4567 - val_accuracy: 0.8334 - val_loss: 0.4695\n",
      "Epoch 21/50\n",
      "\u001b[1m1787/1787\u001b[0m \u001b[32m━━━━━━━━━━━━━━━━━━━━\u001b[0m\u001b[37m\u001b[0m \u001b[1m2s\u001b[0m 1ms/step - accuracy: 0.8408 - loss: 0.4531 - val_accuracy: 0.8342 - val_loss: 0.4708\n",
      "Epoch 22/50\n",
      "\u001b[1m1787/1787\u001b[0m \u001b[32m━━━━━━━━━━━━━━━━━━━━\u001b[0m\u001b[37m\u001b[0m \u001b[1m2s\u001b[0m 986us/step - accuracy: 0.8385 - loss: 0.4625 - val_accuracy: 0.8344 - val_loss: 0.4774\n",
      "Epoch 23/50\n",
      "\u001b[1m1787/1787\u001b[0m \u001b[32m━━━━━━━━━━━━━━━━━━━━\u001b[0m\u001b[37m\u001b[0m \u001b[1m2s\u001b[0m 1ms/step - accuracy: 0.8395 - loss: 0.4590 - val_accuracy: 0.8338 - val_loss: 0.4791\n",
      "Epoch 24/50\n",
      "\u001b[1m1787/1787\u001b[0m \u001b[32m━━━━━━━━━━━━━━━━━━━━\u001b[0m\u001b[37m\u001b[0m \u001b[1m2s\u001b[0m 972us/step - accuracy: 0.8418 - loss: 0.4542 - val_accuracy: 0.8349 - val_loss: 0.4716\n",
      "Epoch 25/50\n",
      "\u001b[1m1787/1787\u001b[0m \u001b[32m━━━━━━━━━━━━━━━━━━━━\u001b[0m\u001b[37m\u001b[0m \u001b[1m2s\u001b[0m 999us/step - accuracy: 0.8401 - loss: 0.4574 - val_accuracy: 0.8350 - val_loss: 0.4695\n",
      "Epoch 26/50\n",
      "\u001b[1m1787/1787\u001b[0m \u001b[32m━━━━━━━━━━━━━━━━━━━━\u001b[0m\u001b[37m\u001b[0m \u001b[1m2s\u001b[0m 971us/step - accuracy: 0.8412 - loss: 0.4568 - val_accuracy: 0.8349 - val_loss: 0.4732\n",
      "Epoch 27/50\n",
      "\u001b[1m1787/1787\u001b[0m \u001b[32m━━━━━━━━━━━━━━━━━━━━\u001b[0m\u001b[37m\u001b[0m \u001b[1m2s\u001b[0m 1ms/step - accuracy: 0.8410 - loss: 0.4582 - val_accuracy: 0.8348 - val_loss: 0.4695\n",
      "Epoch 28/50\n",
      "\u001b[1m1787/1787\u001b[0m \u001b[32m━━━━━━━━━━━━━━━━━━━━\u001b[0m\u001b[37m\u001b[0m \u001b[1m2s\u001b[0m 1ms/step - accuracy: 0.8397 - loss: 0.4582 - val_accuracy: 0.8351 - val_loss: 0.4705\n",
      "Epoch 29/50\n",
      "\u001b[1m1787/1787\u001b[0m \u001b[32m━━━━━━━━━━━━━━━━━━━━\u001b[0m\u001b[37m\u001b[0m \u001b[1m2s\u001b[0m 973us/step - accuracy: 0.8402 - loss: 0.4578 - val_accuracy: 0.8351 - val_loss: 0.4686\n",
      "Epoch 30/50\n",
      "\u001b[1m1787/1787\u001b[0m \u001b[32m━━━━━━━━━━━━━━━━━━━━\u001b[0m\u001b[37m\u001b[0m \u001b[1m2s\u001b[0m 1ms/step - accuracy: 0.8412 - loss: 0.4554 - val_accuracy: 0.8352 - val_loss: 0.4695\n",
      "Epoch 31/50\n",
      "\u001b[1m1787/1787\u001b[0m \u001b[32m━━━━━━━━━━━━━━━━━━━━\u001b[0m\u001b[37m\u001b[0m \u001b[1m2s\u001b[0m 973us/step - accuracy: 0.8406 - loss: 0.4545 - val_accuracy: 0.8346 - val_loss: 0.4735\n",
      "Epoch 32/50\n",
      "\u001b[1m1787/1787\u001b[0m \u001b[32m━━━━━━━━━━━━━━━━━━━━\u001b[0m\u001b[37m\u001b[0m \u001b[1m2s\u001b[0m 975us/step - accuracy: 0.8412 - loss: 0.4570 - val_accuracy: 0.8342 - val_loss: 0.4877\n",
      "Epoch 33/50\n",
      "\u001b[1m1787/1787\u001b[0m \u001b[32m━━━━━━━━━━━━━━━━━━━━\u001b[0m\u001b[37m\u001b[0m \u001b[1m2s\u001b[0m 1ms/step - accuracy: 0.8392 - loss: 0.4608 - val_accuracy: 0.8359 - val_loss: 0.4688\n",
      "Epoch 34/50\n",
      "\u001b[1m1787/1787\u001b[0m \u001b[32m━━━━━━━━━━━━━━━━━━━━\u001b[0m\u001b[37m\u001b[0m \u001b[1m2s\u001b[0m 1ms/step - accuracy: 0.8397 - loss: 0.4591 - val_accuracy: 0.8355 - val_loss: 0.4694\n",
      "Epoch 35/50\n",
      "\u001b[1m1787/1787\u001b[0m \u001b[32m━━━━━━━━━━━━━━━━━━━━\u001b[0m\u001b[37m\u001b[0m \u001b[1m2s\u001b[0m 1ms/step - accuracy: 0.8384 - loss: 0.4586 - val_accuracy: 0.8356 - val_loss: 0.4670\n",
      "Epoch 36/50\n",
      "\u001b[1m1787/1787\u001b[0m \u001b[32m━━━━━━━━━━━━━━━━━━━━\u001b[0m\u001b[37m\u001b[0m \u001b[1m2s\u001b[0m 1ms/step - accuracy: 0.8385 - loss: 0.4596 - val_accuracy: 0.8352 - val_loss: 0.4697\n",
      "Epoch 37/50\n",
      "\u001b[1m1787/1787\u001b[0m \u001b[32m━━━━━━━━━━━━━━━━━━━━\u001b[0m\u001b[37m\u001b[0m \u001b[1m2s\u001b[0m 1ms/step - accuracy: 0.8411 - loss: 0.4553 - val_accuracy: 0.8344 - val_loss: 0.4688\n",
      "Epoch 38/50\n",
      "\u001b[1m1787/1787\u001b[0m \u001b[32m━━━━━━━━━━━━━━━━━━━━\u001b[0m\u001b[37m\u001b[0m \u001b[1m2s\u001b[0m 1ms/step - accuracy: 0.8402 - loss: 0.4536 - val_accuracy: 0.8347 - val_loss: 0.4787\n",
      "Epoch 39/50\n",
      "\u001b[1m1787/1787\u001b[0m \u001b[32m━━━━━━━━━━━━━━━━━━━━\u001b[0m\u001b[37m\u001b[0m \u001b[1m2s\u001b[0m 1ms/step - accuracy: 0.8402 - loss: 0.4589 - val_accuracy: 0.8340 - val_loss: 0.4681\n",
      "Epoch 40/50\n",
      "\u001b[1m1787/1787\u001b[0m \u001b[32m━━━━━━━━━━━━━━━━━━━━\u001b[0m\u001b[37m\u001b[0m \u001b[1m2s\u001b[0m 1ms/step - accuracy: 0.8402 - loss: 0.4526 - val_accuracy: 0.8344 - val_loss: 0.4704\n",
      "Epoch 41/50\n",
      "\u001b[1m1787/1787\u001b[0m \u001b[32m━━━━━━━━━━━━━━━━━━━━\u001b[0m\u001b[37m\u001b[0m \u001b[1m2s\u001b[0m 1ms/step - accuracy: 0.8395 - loss: 0.4583 - val_accuracy: 0.8353 - val_loss: 0.4663\n",
      "Epoch 42/50\n",
      "\u001b[1m1787/1787\u001b[0m \u001b[32m━━━━━━━━━━━━━━━━━━━━\u001b[0m\u001b[37m\u001b[0m \u001b[1m2s\u001b[0m 1ms/step - accuracy: 0.8401 - loss: 0.4532 - val_accuracy: 0.8354 - val_loss: 0.4665\n",
      "Epoch 43/50\n",
      "\u001b[1m1787/1787\u001b[0m \u001b[32m━━━━━━━━━━━━━━━━━━━━\u001b[0m\u001b[37m\u001b[0m \u001b[1m2s\u001b[0m 1ms/step - accuracy: 0.8409 - loss: 0.4531 - val_accuracy: 0.8352 - val_loss: 0.4669\n",
      "Epoch 44/50\n",
      "\u001b[1m1787/1787\u001b[0m \u001b[32m━━━━━━━━━━━━━━━━━━━━\u001b[0m\u001b[37m\u001b[0m \u001b[1m2s\u001b[0m 1ms/step - accuracy: 0.8403 - loss: 0.4561 - val_accuracy: 0.8356 - val_loss: 0.4661\n",
      "Epoch 45/50\n",
      "\u001b[1m1787/1787\u001b[0m \u001b[32m━━━━━━━━━━━━━━━━━━━━\u001b[0m\u001b[37m\u001b[0m \u001b[1m2s\u001b[0m 1ms/step - accuracy: 0.8387 - loss: 0.4571 - val_accuracy: 0.8334 - val_loss: 0.4708\n",
      "Epoch 46/50\n",
      "\u001b[1m1787/1787\u001b[0m \u001b[32m━━━━━━━━━━━━━━━━━━━━\u001b[0m\u001b[37m\u001b[0m \u001b[1m2s\u001b[0m 990us/step - accuracy: 0.8410 - loss: 0.4547 - val_accuracy: 0.8345 - val_loss: 0.4724\n",
      "Epoch 47/50\n",
      "\u001b[1m1787/1787\u001b[0m \u001b[32m━━━━━━━━━━━━━━━━━━━━\u001b[0m\u001b[37m\u001b[0m \u001b[1m3s\u001b[0m 2ms/step - accuracy: 0.8371 - loss: 0.4584 - val_accuracy: 0.8357 - val_loss: 0.4681\n",
      "Epoch 48/50\n",
      "\u001b[1m1787/1787\u001b[0m \u001b[32m━━━━━━━━━━━━━━━━━━━━\u001b[0m\u001b[37m\u001b[0m \u001b[1m3s\u001b[0m 1ms/step - accuracy: 0.8382 - loss: 0.4594 - val_accuracy: 0.8347 - val_loss: 0.4714\n",
      "Epoch 49/50\n",
      "\u001b[1m1787/1787\u001b[0m \u001b[32m━━━━━━━━━━━━━━━━━━━━\u001b[0m\u001b[37m\u001b[0m \u001b[1m2s\u001b[0m 1ms/step - accuracy: 0.8412 - loss: 0.4556 - val_accuracy: 0.8355 - val_loss: 0.4688\n",
      "Epoch 50/50\n"
     ]
    },
    {
     "name": "stdout",
     "output_type": "stream",
     "text": [
      "\u001b[1m1787/1787\u001b[0m \u001b[32m━━━━━━━━━━━━━━━━━━━━\u001b[0m\u001b[37m\u001b[0m \u001b[1m2s\u001b[0m 967us/step - accuracy: 0.8398 - loss: 0.4593 - val_accuracy: 0.8343 - val_loss: 0.4693\n"
     ]
    }
   ],
   "source": [
    "# Train the model\n",
    "history_2 = model_2.fit(X_train, y_train, epochs=10, batch_size=64, validation_split=0.25)"
   ]
  },
  {
   "cell_type": "code",
   "execution_count": 157,
   "id": "0a3a400e",
   "metadata": {},
   "outputs": [
    {
     "data": {
      "text/html": [
       "<pre style=\"white-space:pre;overflow-x:auto;line-height:normal;font-family:Menlo,'DejaVu Sans Mono',consolas,'Courier New',monospace\"><span style=\"font-weight: bold\">Model: \"sequential_7\"</span>\n",
       "</pre>\n"
      ],
      "text/plain": [
       "\u001b[1mModel: \"sequential_7\"\u001b[0m\n"
      ]
     },
     "metadata": {},
     "output_type": "display_data"
    },
    {
     "data": {
      "text/html": [
       "<pre style=\"white-space:pre;overflow-x:auto;line-height:normal;font-family:Menlo,'DejaVu Sans Mono',consolas,'Courier New',monospace\">┏━━━━━━━━━━━━━━━━━━━━━━━━━━━━━━━━━┳━━━━━━━━━━━━━━━━━━━━━━━━┳━━━━━━━━━━━━━━━┓\n",
       "┃<span style=\"font-weight: bold\"> Layer (type)                    </span>┃<span style=\"font-weight: bold\"> Output Shape           </span>┃<span style=\"font-weight: bold\">       Param # </span>┃\n",
       "┡━━━━━━━━━━━━━━━━━━━━━━━━━━━━━━━━━╇━━━━━━━━━━━━━━━━━━━━━━━━╇━━━━━━━━━━━━━━━┩\n",
       "│ dense_14 (<span style=\"color: #0087ff; text-decoration-color: #0087ff\">Dense</span>)                │ (<span style=\"color: #00d7ff; text-decoration-color: #00d7ff\">None</span>, <span style=\"color: #00af00; text-decoration-color: #00af00\">32</span>)             │         <span style=\"color: #00af00; text-decoration-color: #00af00\">2,368</span> │\n",
       "├─────────────────────────────────┼────────────────────────┼───────────────┤\n",
       "│ dropout_1 (<span style=\"color: #0087ff; text-decoration-color: #0087ff\">Dropout</span>)             │ (<span style=\"color: #00d7ff; text-decoration-color: #00d7ff\">None</span>, <span style=\"color: #00af00; text-decoration-color: #00af00\">32</span>)             │             <span style=\"color: #00af00; text-decoration-color: #00af00\">0</span> │\n",
       "├─────────────────────────────────┼────────────────────────┼───────────────┤\n",
       "│ dense_15 (<span style=\"color: #0087ff; text-decoration-color: #0087ff\">Dense</span>)                │ (<span style=\"color: #00d7ff; text-decoration-color: #00d7ff\">None</span>, <span style=\"color: #00af00; text-decoration-color: #00af00\">4</span>)              │           <span style=\"color: #00af00; text-decoration-color: #00af00\">132</span> │\n",
       "└─────────────────────────────────┴────────────────────────┴───────────────┘\n",
       "</pre>\n"
      ],
      "text/plain": [
       "┏━━━━━━━━━━━━━━━━━━━━━━━━━━━━━━━━━┳━━━━━━━━━━━━━━━━━━━━━━━━┳━━━━━━━━━━━━━━━┓\n",
       "┃\u001b[1m \u001b[0m\u001b[1mLayer (type)                   \u001b[0m\u001b[1m \u001b[0m┃\u001b[1m \u001b[0m\u001b[1mOutput Shape          \u001b[0m\u001b[1m \u001b[0m┃\u001b[1m \u001b[0m\u001b[1m      Param #\u001b[0m\u001b[1m \u001b[0m┃\n",
       "┡━━━━━━━━━━━━━━━━━━━━━━━━━━━━━━━━━╇━━━━━━━━━━━━━━━━━━━━━━━━╇━━━━━━━━━━━━━━━┩\n",
       "│ dense_14 (\u001b[38;5;33mDense\u001b[0m)                │ (\u001b[38;5;45mNone\u001b[0m, \u001b[38;5;34m32\u001b[0m)             │         \u001b[38;5;34m2,368\u001b[0m │\n",
       "├─────────────────────────────────┼────────────────────────┼───────────────┤\n",
       "│ dropout_1 (\u001b[38;5;33mDropout\u001b[0m)             │ (\u001b[38;5;45mNone\u001b[0m, \u001b[38;5;34m32\u001b[0m)             │             \u001b[38;5;34m0\u001b[0m │\n",
       "├─────────────────────────────────┼────────────────────────┼───────────────┤\n",
       "│ dense_15 (\u001b[38;5;33mDense\u001b[0m)                │ (\u001b[38;5;45mNone\u001b[0m, \u001b[38;5;34m4\u001b[0m)              │           \u001b[38;5;34m132\u001b[0m │\n",
       "└─────────────────────────────────┴────────────────────────┴───────────────┘\n"
      ]
     },
     "metadata": {},
     "output_type": "display_data"
    },
    {
     "data": {
      "text/html": [
       "<pre style=\"white-space:pre;overflow-x:auto;line-height:normal;font-family:Menlo,'DejaVu Sans Mono',consolas,'Courier New',monospace\"><span style=\"font-weight: bold\"> Total params: </span><span style=\"color: #00af00; text-decoration-color: #00af00\">7,502</span> (29.31 KB)\n",
       "</pre>\n"
      ],
      "text/plain": [
       "\u001b[1m Total params: \u001b[0m\u001b[38;5;34m7,502\u001b[0m (29.31 KB)\n"
      ]
     },
     "metadata": {},
     "output_type": "display_data"
    },
    {
     "data": {
      "text/html": [
       "<pre style=\"white-space:pre;overflow-x:auto;line-height:normal;font-family:Menlo,'DejaVu Sans Mono',consolas,'Courier New',monospace\"><span style=\"font-weight: bold\"> Trainable params: </span><span style=\"color: #00af00; text-decoration-color: #00af00\">2,500</span> (9.77 KB)\n",
       "</pre>\n"
      ],
      "text/plain": [
       "\u001b[1m Trainable params: \u001b[0m\u001b[38;5;34m2,500\u001b[0m (9.77 KB)\n"
      ]
     },
     "metadata": {},
     "output_type": "display_data"
    },
    {
     "data": {
      "text/html": [
       "<pre style=\"white-space:pre;overflow-x:auto;line-height:normal;font-family:Menlo,'DejaVu Sans Mono',consolas,'Courier New',monospace\"><span style=\"font-weight: bold\"> Non-trainable params: </span><span style=\"color: #00af00; text-decoration-color: #00af00\">0</span> (0.00 B)\n",
       "</pre>\n"
      ],
      "text/plain": [
       "\u001b[1m Non-trainable params: \u001b[0m\u001b[38;5;34m0\u001b[0m (0.00 B)\n"
      ]
     },
     "metadata": {},
     "output_type": "display_data"
    },
    {
     "data": {
      "text/html": [
       "<pre style=\"white-space:pre;overflow-x:auto;line-height:normal;font-family:Menlo,'DejaVu Sans Mono',consolas,'Courier New',monospace\"><span style=\"font-weight: bold\"> Optimizer params: </span><span style=\"color: #00af00; text-decoration-color: #00af00\">5,002</span> (19.54 KB)\n",
       "</pre>\n"
      ],
      "text/plain": [
       "\u001b[1m Optimizer params: \u001b[0m\u001b[38;5;34m5,002\u001b[0m (19.54 KB)\n"
      ]
     },
     "metadata": {},
     "output_type": "display_data"
    },
    {
     "name": "stdout",
     "output_type": "stream",
     "text": [
      "None\n"
     ]
    }
   ],
   "source": [
    "print(model_2.summary())"
   ]
  },
  {
   "cell_type": "code",
   "execution_count": 144,
   "id": "35b27c8b",
   "metadata": {},
   "outputs": [
    {
     "data": {
      "image/png": "[encoded data removed]",
      "text/plain": [
       "<Figure size 640x480 with 1 Axes>"
      ]
     },
     "metadata": {},
     "output_type": "display_data"
    }
   ],
   "source": [
    "import matplotlib.pyplot as plt\n",
    "\n",
    "# Get training and validation loss from the history object\n",
    "train_loss = history_2.history['loss']\n",
    "val_loss = history_2.history['val_loss']\n",
    "\n",
    "# Plot training and validation loss\n",
    "epochs = range(1, len(train_loss) + 1)\n",
    "plt.plot(epochs, train_loss, 'b', label='Training loss')\n",
    "plt.plot(epochs, val_loss, 'r', label='Validation loss')\n",
    "plt.title('Training and Validation Loss')\n",
    "plt.xlabel('Epochs')\n",
    "plt.ylabel('Loss')\n",
    "plt.legend()\n",
    "plt.show()"
   ]
  },
  {
   "cell_type": "code",
   "execution_count": 146,
   "id": "d5b3911f",
   "metadata": {},
   "outputs": [
    {
     "name": "stdout",
     "output_type": "stream",
     "text": [
      "\u001b[1m794/794\u001b[0m \u001b[32m━━━━━━━━━━━━━━━━━━━━\u001b[0m\u001b[37m\u001b[0m \u001b[1m0s\u001b[0m 429us/step - accuracy: 0.8364 - loss: 0.4584\n",
      "Test Loss: 0.4604651927947998\n",
      "Test Accuracy: 0.8362759351730347\n"
     ]
    }
   ],
   "source": [
    "# Evaluate the model on the test data\n",
    "loss_2, accuracy_2 = model_2.evaluate(X_test, y_test, batch_size=64)\n",
    "\n",
    "# Print the loss value and accuracy value\n",
    "print(\"Test Loss:\", loss_2)\n",
    "print(\"Test Accuracy:\", accuracy_2)"
   ]
  },
  {
   "cell_type": "markdown",
   "id": "3135efdc",
   "metadata": {},
   "source": [
    "**6. Try model with early stopping**"
   ]
  },
  {
   "cell_type": "code",
   "execution_count": 178,
   "id": "142d33ef",
   "metadata": {},
   "outputs": [],
   "source": [
    "from tensorflow.keras.callbacks import EarlyStopping"
   ]
  },
  {
   "cell_type": "code",
   "execution_count": 179,
   "id": "f7a7a167",
   "metadata": {},
   "outputs": [],
   "source": [
    "# Further split training data into train and validation sets\n",
    "X_train, X_val, y_train, y_val = train_test_split(X_train, y_train, test_size=0.25, random_state=42)"
   ]
  },
  {
   "cell_type": "code",
   "execution_count": 182,
   "id": "b617fd27",
   "metadata": {},
   "outputs": [],
   "source": [
    "# Define early stopping criteria\n",
    "early_stopping = EarlyStopping(monitor='val_loss', patience=5, restore_best_weights=True)"
   ]
  },
  {
   "cell_type": "code",
   "execution_count": 183,
   "id": "b779b87a",
   "metadata": {
    "scrolled": true
   },
   "outputs": [
    {
     "name": "stdout",
     "output_type": "stream",
     "text": [
      "Epoch 1/50\n",
      "\u001b[1m2858/2858\u001b[0m \u001b[32m━━━━━━━━━━━━━━━━━━━━\u001b[0m\u001b[37m\u001b[0m \u001b[1m2s\u001b[0m 674us/step - accuracy: 0.8399 - loss: 0.4609 - val_accuracy: 0.8388 - val_loss: 0.4545\n",
      "Epoch 2/50\n",
      "\u001b[1m2858/2858\u001b[0m \u001b[32m━━━━━━━━━━━━━━━━━━━━\u001b[0m\u001b[37m\u001b[0m \u001b[1m2s\u001b[0m 658us/step - accuracy: 0.8394 - loss: 0.4576 - val_accuracy: 0.8376 - val_loss: 0.4599\n",
      "Epoch 3/50\n",
      "\u001b[1m2858/2858\u001b[0m \u001b[32m━━━━━━━━━━━━━━━━━━━━\u001b[0m\u001b[37m\u001b[0m \u001b[1m2s\u001b[0m 661us/step - accuracy: 0.8388 - loss: 0.4596 - val_accuracy: 0.8386 - val_loss: 0.4545\n",
      "Epoch 4/50\n",
      "\u001b[1m2858/2858\u001b[0m \u001b[32m━━━━━━━━━━━━━━━━━━━━\u001b[0m\u001b[37m\u001b[0m \u001b[1m2s\u001b[0m 673us/step - accuracy: 0.8399 - loss: 0.4597 - val_accuracy: 0.8388 - val_loss: 0.4558\n",
      "Epoch 5/50\n",
      "\u001b[1m2858/2858\u001b[0m \u001b[32m━━━━━━━━━━━━━━━━━━━━\u001b[0m\u001b[37m\u001b[0m \u001b[1m2s\u001b[0m 726us/step - accuracy: 0.8382 - loss: 0.4607 - val_accuracy: 0.8387 - val_loss: 0.4552\n",
      "Epoch 6/50\n",
      "\u001b[1m2858/2858\u001b[0m \u001b[32m━━━━━━━━━━━━━━━━━━━━\u001b[0m\u001b[37m\u001b[0m \u001b[1m3s\u001b[0m 998us/step - accuracy: 0.8376 - loss: 0.4612 - val_accuracy: 0.8377 - val_loss: 0.4586\n",
      "Epoch 7/50\n",
      "\u001b[1m2858/2858\u001b[0m \u001b[32m━━━━━━━━━━━━━━━━━━━━\u001b[0m\u001b[37m\u001b[0m \u001b[1m3s\u001b[0m 938us/step - accuracy: 0.8376 - loss: 0.4632 - val_accuracy: 0.8391 - val_loss: 0.4619\n",
      "Epoch 8/50\n",
      "\u001b[1m2858/2858\u001b[0m \u001b[32m━━━━━━━━━━━━━━━━━━━━\u001b[0m\u001b[37m\u001b[0m \u001b[1m3s\u001b[0m 948us/step - accuracy: 0.8398 - loss: 0.4618 - val_accuracy: 0.8391 - val_loss: 0.4576\n"
     ]
    }
   ],
   "source": [
    "# Train the model with early stopping\n",
    "history_3 = model_2.fit(X_train, y_train, epochs=50, validation_data=(X_val, y_val), callbacks=[early_stopping])"
   ]
  },
  {
   "cell_type": "code",
   "execution_count": 184,
   "id": "649ecac9",
   "metadata": {},
   "outputs": [
    {
     "name": "stdout",
     "output_type": "stream",
     "text": [
      "\u001b[1m1588/1588\u001b[0m \u001b[32m━━━━━━━━━━━━━━━━━━━━\u001b[0m\u001b[37m\u001b[0m \u001b[1m1s\u001b[0m 426us/step - accuracy: 0.8377 - loss: 0.4562\n",
      "Test Loss: 0.4591273367404938\n",
      "Test Accuracy: 0.8368664383888245\n"
     ]
    }
   ],
   "source": [
    "# Evaluate the model on the test set\n",
    "test_loss, test_accuracy = model_2.evaluate(X_test, y_test)\n",
    "\n",
    "print(f\"Test Loss: {test_loss}\")\n",
    "print(f\"Test Accuracy: {test_accuracy}\")"
   ]
  },
  {
   "cell_type": "markdown",
   "id": "690a519d",
   "metadata": {},
   "source": [
    "**7. Try more hidden layers**"
   ]
  },
  {
   "cell_type": "code",
   "execution_count": 185,
   "id": "5e58db0c",
   "metadata": {},
   "outputs": [],
   "source": [
    "from keras.layers import Dense, Dropout, BatchNormalization"
   ]
  },
  {
   "cell_type": "code",
   "execution_count": 216,
   "id": "8b6c3dd5",
   "metadata": {},
   "outputs": [],
   "source": [
    "model_3 = Sequential([\n",
    "    Input(shape=(X_train.shape[1],)),\n",
    "    Dense(64, activation='relu'),\n",
    "    BatchNormalization(),\n",
    "    Dense(64, activation='relu'),\n",
    "    Dropout(0.5),\n",
    "    Dense(y.shape[1], activation='softmax')\n",
    "])"
   ]
  },
  {
   "cell_type": "code",
   "execution_count": 217,
   "id": "d4f3c7d3",
   "metadata": {},
   "outputs": [],
   "source": [
    "# Compile the model\n",
    "model_3.compile(optimizer='adam', loss='categorical_crossentropy', metrics=['accuracy'])"
   ]
  },
  {
   "cell_type": "code",
   "execution_count": 218,
   "id": "9069a716",
   "metadata": {
    "scrolled": true
   },
   "outputs": [
    {
     "name": "stdout",
     "output_type": "stream",
     "text": [
      "Epoch 1/10\n",
      "\u001b[1m1072/1072\u001b[0m \u001b[32m━━━━━━━━━━━━━━━━━━━━\u001b[0m\u001b[37m\u001b[0m \u001b[1m2s\u001b[0m 1ms/step - accuracy: 0.8028 - loss: 0.6092 - val_accuracy: 0.8334 - val_loss: 0.4957\n",
      "Epoch 2/10\n",
      "\u001b[1m1072/1072\u001b[0m \u001b[32m━━━━━━━━━━━━━━━━━━━━\u001b[0m\u001b[37m\u001b[0m \u001b[1m1s\u001b[0m 882us/step - accuracy: 0.8344 - loss: 0.4967 - val_accuracy: 0.8333 - val_loss: 0.4984\n",
      "Epoch 3/10\n",
      "\u001b[1m1072/1072\u001b[0m \u001b[32m━━━━━━━━━━━━━━━━━━━━\u001b[0m\u001b[37m\u001b[0m \u001b[1m1s\u001b[0m 940us/step - accuracy: 0.8377 - loss: 0.4795 - val_accuracy: 0.8370 - val_loss: 0.4733\n",
      "Epoch 4/10\n",
      "\u001b[1m1072/1072\u001b[0m \u001b[32m━━━━━━━━━━━━━━━━━━━━\u001b[0m\u001b[37m\u001b[0m \u001b[1m1s\u001b[0m 898us/step - accuracy: 0.8387 - loss: 0.4727 - val_accuracy: 0.8337 - val_loss: 0.4699\n",
      "Epoch 5/10\n",
      "\u001b[1m1072/1072\u001b[0m \u001b[32m━━━━━━━━━━━━━━━━━━━━\u001b[0m\u001b[37m\u001b[0m \u001b[1m1s\u001b[0m 1ms/step - accuracy: 0.8360 - loss: 0.4750 - val_accuracy: 0.8355 - val_loss: 0.4639\n",
      "Epoch 6/10\n",
      "\u001b[1m1072/1072\u001b[0m \u001b[32m━━━━━━━━━━━━━━━━━━━━\u001b[0m\u001b[37m\u001b[0m \u001b[1m1s\u001b[0m 1ms/step - accuracy: 0.8358 - loss: 0.4700 - val_accuracy: 0.8373 - val_loss: 0.4653\n",
      "Epoch 7/10\n",
      "\u001b[1m1072/1072\u001b[0m \u001b[32m━━━━━━━━━━━━━━━━━━━━\u001b[0m\u001b[37m\u001b[0m \u001b[1m1s\u001b[0m 1ms/step - accuracy: 0.8391 - loss: 0.4662 - val_accuracy: 0.8375 - val_loss: 0.4683\n",
      "Epoch 8/10\n",
      "\u001b[1m1072/1072\u001b[0m \u001b[32m━━━━━━━━━━━━━━━━━━━━\u001b[0m\u001b[37m\u001b[0m \u001b[1m2s\u001b[0m 1ms/step - accuracy: 0.8381 - loss: 0.4646 - val_accuracy: 0.8365 - val_loss: 0.4657\n",
      "Epoch 9/10\n",
      "\u001b[1m1072/1072\u001b[0m \u001b[32m━━━━━━━━━━━━━━━━━━━━\u001b[0m\u001b[37m\u001b[0m \u001b[1m1s\u001b[0m 1ms/step - accuracy: 0.8392 - loss: 0.4651 - val_accuracy: 0.8364 - val_loss: 0.4618\n",
      "Epoch 10/10\n",
      "\u001b[1m1072/1072\u001b[0m \u001b[32m━━━━━━━━━━━━━━━━━━━━\u001b[0m\u001b[37m\u001b[0m \u001b[1m2s\u001b[0m 1ms/step - accuracy: 0.8375 - loss: 0.4665 - val_accuracy: 0.8370 - val_loss: 0.4652\n"
     ]
    }
   ],
   "source": [
    "# Train the model\n",
    "history_4 = model_3.fit(X_train, y_train, epochs=10, batch_size=64, validation_split=0.25)"
   ]
  },
  {
   "cell_type": "code",
   "execution_count": 219,
   "id": "9826f6e2",
   "metadata": {
    "scrolled": false
   },
   "outputs": [
    {
     "data": {
      "text/html": [
       "<pre style=\"white-space:pre;overflow-x:auto;line-height:normal;font-family:Menlo,'DejaVu Sans Mono',consolas,'Courier New',monospace\"><span style=\"font-weight: bold\">Model: \"sequential_17\"</span>\n",
       "</pre>\n"
      ],
      "text/plain": [
       "\u001b[1mModel: \"sequential_17\"\u001b[0m\n"
      ]
     },
     "metadata": {},
     "output_type": "display_data"
    },
    {
     "data": {
      "text/html": [
       "<pre style=\"white-space:pre;overflow-x:auto;line-height:normal;font-family:Menlo,'DejaVu Sans Mono',consolas,'Courier New',monospace\">┏━━━━━━━━━━━━━━━━━━━━━━━━━━━━━━━━━┳━━━━━━━━━━━━━━━━━━━━━━━━┳━━━━━━━━━━━━━━━┓\n",
       "┃<span style=\"font-weight: bold\"> Layer (type)                    </span>┃<span style=\"font-weight: bold\"> Output Shape           </span>┃<span style=\"font-weight: bold\">       Param # </span>┃\n",
       "┡━━━━━━━━━━━━━━━━━━━━━━━━━━━━━━━━━╇━━━━━━━━━━━━━━━━━━━━━━━━╇━━━━━━━━━━━━━━━┩\n",
       "│ dense_43 (<span style=\"color: #0087ff; text-decoration-color: #0087ff\">Dense</span>)                │ (<span style=\"color: #00d7ff; text-decoration-color: #00d7ff\">None</span>, <span style=\"color: #00af00; text-decoration-color: #00af00\">64</span>)             │         <span style=\"color: #00af00; text-decoration-color: #00af00\">4,736</span> │\n",
       "├─────────────────────────────────┼────────────────────────┼───────────────┤\n",
       "│ batch_normalization_10          │ (<span style=\"color: #00d7ff; text-decoration-color: #00d7ff\">None</span>, <span style=\"color: #00af00; text-decoration-color: #00af00\">64</span>)             │           <span style=\"color: #00af00; text-decoration-color: #00af00\">256</span> │\n",
       "│ (<span style=\"color: #0087ff; text-decoration-color: #0087ff\">BatchNormalization</span>)            │                        │               │\n",
       "├─────────────────────────────────┼────────────────────────┼───────────────┤\n",
       "│ dense_44 (<span style=\"color: #0087ff; text-decoration-color: #0087ff\">Dense</span>)                │ (<span style=\"color: #00d7ff; text-decoration-color: #00d7ff\">None</span>, <span style=\"color: #00af00; text-decoration-color: #00af00\">64</span>)             │         <span style=\"color: #00af00; text-decoration-color: #00af00\">4,160</span> │\n",
       "├─────────────────────────────────┼────────────────────────┼───────────────┤\n",
       "│ dropout_9 (<span style=\"color: #0087ff; text-decoration-color: #0087ff\">Dropout</span>)             │ (<span style=\"color: #00d7ff; text-decoration-color: #00d7ff\">None</span>, <span style=\"color: #00af00; text-decoration-color: #00af00\">64</span>)             │             <span style=\"color: #00af00; text-decoration-color: #00af00\">0</span> │\n",
       "├─────────────────────────────────┼────────────────────────┼───────────────┤\n",
       "│ dense_45 (<span style=\"color: #0087ff; text-decoration-color: #0087ff\">Dense</span>)                │ (<span style=\"color: #00d7ff; text-decoration-color: #00d7ff\">None</span>, <span style=\"color: #00af00; text-decoration-color: #00af00\">4</span>)              │           <span style=\"color: #00af00; text-decoration-color: #00af00\">260</span> │\n",
       "└─────────────────────────────────┴────────────────────────┴───────────────┘\n",
       "</pre>\n"
      ],
      "text/plain": [
       "┏━━━━━━━━━━━━━━━━━━━━━━━━━━━━━━━━━┳━━━━━━━━━━━━━━━━━━━━━━━━┳━━━━━━━━━━━━━━━┓\n",
       "┃\u001b[1m \u001b[0m\u001b[1mLayer (type)                   \u001b[0m\u001b[1m \u001b[0m┃\u001b[1m \u001b[0m\u001b[1mOutput Shape          \u001b[0m\u001b[1m \u001b[0m┃\u001b[1m \u001b[0m\u001b[1m      Param #\u001b[0m\u001b[1m \u001b[0m┃\n",
       "┡━━━━━━━━━━━━━━━━━━━━━━━━━━━━━━━━━╇━━━━━━━━━━━━━━━━━━━━━━━━╇━━━━━━━━━━━━━━━┩\n",
       "│ dense_43 (\u001b[38;5;33mDense\u001b[0m)                │ (\u001b[38;5;45mNone\u001b[0m, \u001b[38;5;34m64\u001b[0m)             │         \u001b[38;5;34m4,736\u001b[0m │\n",
       "├─────────────────────────────────┼────────────────────────┼───────────────┤\n",
       "│ batch_normalization_10          │ (\u001b[38;5;45mNone\u001b[0m, \u001b[38;5;34m64\u001b[0m)             │           \u001b[38;5;34m256\u001b[0m │\n",
       "│ (\u001b[38;5;33mBatchNormalization\u001b[0m)            │                        │               │\n",
       "├─────────────────────────────────┼────────────────────────┼───────────────┤\n",
       "│ dense_44 (\u001b[38;5;33mDense\u001b[0m)                │ (\u001b[38;5;45mNone\u001b[0m, \u001b[38;5;34m64\u001b[0m)             │         \u001b[38;5;34m4,160\u001b[0m │\n",
       "├─────────────────────────────────┼────────────────────────┼───────────────┤\n",
       "│ dropout_9 (\u001b[38;5;33mDropout\u001b[0m)             │ (\u001b[38;5;45mNone\u001b[0m, \u001b[38;5;34m64\u001b[0m)             │             \u001b[38;5;34m0\u001b[0m │\n",
       "├─────────────────────────────────┼────────────────────────┼───────────────┤\n",
       "│ dense_45 (\u001b[38;5;33mDense\u001b[0m)                │ (\u001b[38;5;45mNone\u001b[0m, \u001b[38;5;34m4\u001b[0m)              │           \u001b[38;5;34m260\u001b[0m │\n",
       "└─────────────────────────────────┴────────────────────────┴───────────────┘\n"
      ]
     },
     "metadata": {},
     "output_type": "display_data"
    },
    {
     "data": {
      "text/html": [
       "<pre style=\"white-space:pre;overflow-x:auto;line-height:normal;font-family:Menlo,'DejaVu Sans Mono',consolas,'Courier New',monospace\"><span style=\"font-weight: bold\"> Total params: </span><span style=\"color: #00af00; text-decoration-color: #00af00\">27,982</span> (109.31 KB)\n",
       "</pre>\n"
      ],
      "text/plain": [
       "\u001b[1m Total params: \u001b[0m\u001b[38;5;34m27,982\u001b[0m (109.31 KB)\n"
      ]
     },
     "metadata": {},
     "output_type": "display_data"
    },
    {
     "data": {
      "text/html": [
       "<pre style=\"white-space:pre;overflow-x:auto;line-height:normal;font-family:Menlo,'DejaVu Sans Mono',consolas,'Courier New',monospace\"><span style=\"font-weight: bold\"> Trainable params: </span><span style=\"color: #00af00; text-decoration-color: #00af00\">9,284</span> (36.27 KB)\n",
       "</pre>\n"
      ],
      "text/plain": [
       "\u001b[1m Trainable params: \u001b[0m\u001b[38;5;34m9,284\u001b[0m (36.27 KB)\n"
      ]
     },
     "metadata": {},
     "output_type": "display_data"
    },
    {
     "data": {
      "text/html": [
       "<pre style=\"white-space:pre;overflow-x:auto;line-height:normal;font-family:Menlo,'DejaVu Sans Mono',consolas,'Courier New',monospace\"><span style=\"font-weight: bold\"> Non-trainable params: </span><span style=\"color: #00af00; text-decoration-color: #00af00\">128</span> (512.00 B)\n",
       "</pre>\n"
      ],
      "text/plain": [
       "\u001b[1m Non-trainable params: \u001b[0m\u001b[38;5;34m128\u001b[0m (512.00 B)\n"
      ]
     },
     "metadata": {},
     "output_type": "display_data"
    },
    {
     "data": {
      "text/html": [
       "<pre style=\"white-space:pre;overflow-x:auto;line-height:normal;font-family:Menlo,'DejaVu Sans Mono',consolas,'Courier New',monospace\"><span style=\"font-weight: bold\"> Optimizer params: </span><span style=\"color: #00af00; text-decoration-color: #00af00\">18,570</span> (72.54 KB)\n",
       "</pre>\n"
      ],
      "text/plain": [
       "\u001b[1m Optimizer params: \u001b[0m\u001b[38;5;34m18,570\u001b[0m (72.54 KB)\n"
      ]
     },
     "metadata": {},
     "output_type": "display_data"
    },
    {
     "name": "stdout",
     "output_type": "stream",
     "text": [
      "None\n"
     ]
    }
   ],
   "source": [
    "print(model_3.summary())"
   ]
  },
  {
   "cell_type": "code",
   "execution_count": 220,
   "id": "0774e295",
   "metadata": {},
   "outputs": [
    {
     "data": {
      "image/png": "[encoded data removed]",
      "text/plain": [
       "<Figure size 640x480 with 1 Axes>"
      ]
     },
     "metadata": {},
     "output_type": "display_data"
    }
   ],
   "source": [
    "# Get training and validation loss from the history object\n",
    "train_loss = history_4.history['loss']\n",
    "val_loss = history_4.history['val_loss']\n",
    "\n",
    "# Plot training and validation loss\n",
    "epochs = range(1, len(train_loss) + 1)\n",
    "plt.plot(epochs, train_loss, 'b', label='Training loss')\n",
    "plt.plot(epochs, val_loss, 'r', label='Validation loss')\n",
    "plt.title('Training and Validation Loss')\n",
    "plt.xlabel('Epochs')\n",
    "plt.ylabel('Loss')\n",
    "plt.legend()\n",
    "plt.show()"
   ]
  },
  {
   "cell_type": "code",
   "execution_count": 221,
   "id": "6da91f99",
   "metadata": {
    "scrolled": false
   },
   "outputs": [
    {
     "name": "stdout",
     "output_type": "stream",
     "text": [
      "\u001b[1m1588/1588\u001b[0m \u001b[32m━━━━━━━━━━━━━━━━━━━━\u001b[0m\u001b[37m\u001b[0m \u001b[1m1s\u001b[0m 464us/step - accuracy: 0.8356 - loss: 0.4629\n",
      "Test Loss: 0.4648039937019348\n",
      "Test Accuracy: 0.8362562656402588\n"
     ]
    }
   ],
   "source": [
    "# Evaluate the model on the test set\n",
    "test_loss, test_accuracy = model_3.evaluate(X_test, y_test)\n",
    "\n",
    "print(f\"Test Loss: {test_loss}\")\n",
    "print(f\"Test Accuracy: {test_accuracy}\")"
   ]
  },
  {
   "cell_type": "markdown",
   "id": "a3782615",
   "metadata": {},
   "source": [
    "**8. Increase model complexity**"
   ]
  },
  {
   "cell_type": "code",
   "execution_count": 239,
   "id": "ff32f80e",
   "metadata": {},
   "outputs": [],
   "source": [
    "model_4 = Sequential([\n",
    "    Input(shape=(X_train.shape[1],)),\n",
    "    Dense(128, activation='relu'),       \n",
    "    BatchNormalization(),                 \n",
    "    Dense(64, activation='relu'),        \n",
    "    Dropout(0.5),                         \n",
    "    Dense(64, activation='relu'),\n",
    "    Dense(y_train.shape[1], activation='softmax')\n",
    "])"
   ]
  },
  {
   "cell_type": "code",
   "execution_count": 240,
   "id": "82afd524",
   "metadata": {},
   "outputs": [],
   "source": [
    "model_4.compile(optimizer='adam', loss='categorical_crossentropy', metrics=['accuracy'])"
   ]
  },
  {
   "cell_type": "code",
   "execution_count": 241,
   "id": "b01c6060",
   "metadata": {},
   "outputs": [
    {
     "name": "stdout",
     "output_type": "stream",
     "text": [
      "Epoch 1/10\n",
      "\u001b[1m536/536\u001b[0m \u001b[32m━━━━━━━━━━━━━━━━━━━━\u001b[0m\u001b[37m\u001b[0m \u001b[1m1s\u001b[0m 1ms/step - accuracy: 0.8311 - loss: 0.5568 - val_accuracy: 0.8335 - val_loss: 0.5242\n",
      "Epoch 2/10\n",
      "\u001b[1m536/536\u001b[0m \u001b[32m━━━━━━━━━━━━━━━━━━━━\u001b[0m\u001b[37m\u001b[0m \u001b[1m1s\u001b[0m 1ms/step - accuracy: 0.8355 - loss: 0.4884 - val_accuracy: 0.8337 - val_loss: 0.5007\n",
      "Epoch 3/10\n",
      "\u001b[1m536/536\u001b[0m \u001b[32m━━━━━━━━━━━━━━━━━━━━\u001b[0m\u001b[37m\u001b[0m \u001b[1m1s\u001b[0m 1ms/step - accuracy: 0.8350 - loss: 0.4815 - val_accuracy: 0.8379 - val_loss: 0.4872\n",
      "Epoch 4/10\n",
      "\u001b[1m536/536\u001b[0m \u001b[32m━━━━━━━━━━━━━━━━━━━━\u001b[0m\u001b[37m\u001b[0m \u001b[1m1s\u001b[0m 1ms/step - accuracy: 0.8362 - loss: 0.4700 - val_accuracy: 0.8384 - val_loss: 0.4910\n",
      "Epoch 5/10\n",
      "\u001b[1m536/536\u001b[0m \u001b[32m━━━━━━━━━━━━━━━━━━━━\u001b[0m\u001b[37m\u001b[0m \u001b[1m1s\u001b[0m 1ms/step - accuracy: 0.8379 - loss: 0.4618 - val_accuracy: 0.8379 - val_loss: 0.4751\n",
      "Epoch 6/10\n",
      "\u001b[1m536/536\u001b[0m \u001b[32m━━━━━━━━━━━━━━━━━━━━\u001b[0m\u001b[37m\u001b[0m \u001b[1m1s\u001b[0m 1ms/step - accuracy: 0.8382 - loss: 0.4624 - val_accuracy: 0.8370 - val_loss: 0.4814\n",
      "Epoch 7/10\n",
      "\u001b[1m536/536\u001b[0m \u001b[32m━━━━━━━━━━━━━━━━━━━━\u001b[0m\u001b[37m\u001b[0m \u001b[1m1s\u001b[0m 2ms/step - accuracy: 0.8387 - loss: 0.4616 - val_accuracy: 0.8366 - val_loss: 0.4718\n",
      "Epoch 8/10\n",
      "\u001b[1m536/536\u001b[0m \u001b[32m━━━━━━━━━━━━━━━━━━━━\u001b[0m\u001b[37m\u001b[0m \u001b[1m1s\u001b[0m 2ms/step - accuracy: 0.8403 - loss: 0.4595 - val_accuracy: 0.8368 - val_loss: 0.4684\n",
      "Epoch 9/10\n",
      "\u001b[1m536/536\u001b[0m \u001b[32m━━━━━━━━━━━━━━━━━━━━\u001b[0m\u001b[37m\u001b[0m \u001b[1m1s\u001b[0m 2ms/step - accuracy: 0.8384 - loss: 0.4603 - val_accuracy: 0.8362 - val_loss: 0.4683\n",
      "Epoch 10/10\n",
      "\u001b[1m536/536\u001b[0m \u001b[32m━━━━━━━━━━━━━━━━━━━━\u001b[0m\u001b[37m\u001b[0m \u001b[1m1s\u001b[0m 2ms/step - accuracy: 0.8372 - loss: 0.4654 - val_accuracy: 0.8351 - val_loss: 0.4706\n"
     ]
    }
   ],
   "source": [
    "history_5 = model_4.fit(X_train, y_train, epochs=10, batch_size=128, validation_split=0.25)"
   ]
  },
  {
   "cell_type": "code",
   "execution_count": 242,
   "id": "ce0adbf5",
   "metadata": {},
   "outputs": [
    {
     "data": {
      "image/png": "[encoded data removed]",
      "text/plain": [
       "<Figure size 640x480 with 1 Axes>"
      ]
     },
     "metadata": {},
     "output_type": "display_data"
    }
   ],
   "source": [
    "# Get training and validation loss from the history object\n",
    "train_loss = history_5.history['loss']\n",
    "val_loss = history_5.history['val_loss']\n",
    "\n",
    "# Plot training and validation loss\n",
    "epochs = range(1, len(train_loss) + 1)\n",
    "plt.plot(epochs, train_loss, 'b', label='Training loss')\n",
    "plt.plot(epochs, val_loss, 'r', label='Validation loss')\n",
    "plt.title('Training and Validation Loss')\n",
    "plt.xlabel('Epochs')\n",
    "plt.ylabel('Loss')\n",
    "plt.legend()\n",
    "plt.show()"
   ]
  },
  {
   "cell_type": "code",
   "execution_count": 243,
   "id": "c07256ce",
   "metadata": {
    "scrolled": true
   },
   "outputs": [
    {
     "name": "stdout",
     "output_type": "stream",
     "text": [
      "\u001b[1m1588/1588\u001b[0m \u001b[32m━━━━━━━━━━━━━━━━━━━━\u001b[0m\u001b[37m\u001b[0m \u001b[1m1s\u001b[0m 496us/step - accuracy: 0.8343 - loss: 0.4686\n",
      "Test Loss: 0.47118517756462097\n",
      "Test Accuracy: 0.8344848155975342\n"
     ]
    }
   ],
   "source": [
    "test_loss, test_accuracy = model_4.evaluate(X_test, y_test)\n",
    "\n",
    "print(f\"Test Loss: {test_loss}\")\n",
    "print(f\"Test Accuracy: {test_accuracy}\")"
   ]
  },
  {
   "cell_type": "markdown",
   "id": "af701fb1",
   "metadata": {},
   "source": [
    "## Conclusion"
   ]
  },
  {
   "cell_type": "markdown",
   "id": "995d70c8",
   "metadata": {},
   "source": [
    "The two layer NN model with early stopping has the best performance among the model tried. With a test loss of 0.459 and a test accuracy of 0.837, the two layer model seems to generalize well to unseen data."
   ]
  },
  {
   "cell_type": "code",
   "execution_count": null,
   "id": "f76d377b",
   "metadata": {},
   "outputs": [],
   "source": []
  }
 ],
 "metadata": {
  "kernelspec": {
   "display_name": "Python 3 (ipykernel)",
   "language": "python",
   "name": "python3"
  },
  "language_info": {
   "codemirror_mode": {
    "name": "ipython",
    "version": 3
   },
   "file_extension": ".py",
   "mimetype": "text/x-python",
   "name": "python",
   "nbconvert_exporter": "python",
   "pygments_lexer": "ipython3",
   "version": "3.11.4"
  }
 },
 "nbformat": 4,
 "nbformat_minor": 5
}
